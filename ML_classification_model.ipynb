{
  "nbformat": 4,
  "nbformat_minor": 0,
  "metadata": {
    "colab": {
      "name": "ML_classification_model.ipynb",
      "version": "0.3.2",
      "provenance": [],
      "toc_visible": true
    },
    "kernelspec": {
      "name": "python3",
      "display_name": "Python 3"
    },
    "accelerator": "GPU"
  },
  "cells": [
    {
      "cell_type": "code",
      "metadata": {
        "id": "nQNWgxFgq-iw",
        "colab_type": "code",
        "colab": {}
      },
      "source": [
        ""
      ],
      "execution_count": 0,
      "outputs": []
    },
    {
      "cell_type": "code",
      "metadata": {
        "id": "cA1rXo7IthwT",
        "colab_type": "code",
        "outputId": "90c94be1-44f0-4406-8c1a-773eb7b7fcf0",
        "colab": {
          "base_uri": "https://localhost:8080/",
          "height": 121
        }
      },
      "source": [
        "from google.colab import drive\n",
        "drive.mount('/content/drive')"
      ],
      "execution_count": 0,
      "outputs": [
        {
          "output_type": "stream",
          "text": [
            "Go to this URL in a browser: https://accounts.google.com/o/oauth2/auth?client_id=947318989803-6bn6qk8qdgf4n4g3pfee6491hc0brc4i.apps.googleusercontent.com&redirect_uri=urn%3Aietf%3Awg%3Aoauth%3A2.0%3Aoob&scope=email%20https%3A%2F%2Fwww.googleapis.com%2Fauth%2Fdocs.test%20https%3A%2F%2Fwww.googleapis.com%2Fauth%2Fdrive%20https%3A%2F%2Fwww.googleapis.com%2Fauth%2Fdrive.photos.readonly%20https%3A%2F%2Fwww.googleapis.com%2Fauth%2Fpeopleapi.readonly&response_type=code\n",
            "\n",
            "Enter your authorization code:\n",
            "··········\n",
            "Mounted at /content/drive\n"
          ],
          "name": "stdout"
        }
      ]
    },
    {
      "cell_type": "markdown",
      "metadata": {
        "id": "qsrRcHY2txPD",
        "colab_type": "text"
      },
      "source": [
        "# Problem Statement\n",
        "\n",
        "**Employee Attrition is a huge problem across industries and generally costs the company a lot for\n",
        "hiring, retraining, productivity and work loss for each employee who leaves.**\n",
        "\n",
        "**To understand weather an employee quits at the earliest, we need to build model to predict whether an employee would quit in the near future.**"
      ]
    },
    {
      "cell_type": "markdown",
      "metadata": {
        "id": "q4av_UgJvOP3",
        "colab_type": "text"
      },
      "source": [
        "# Reading the data sets & knowing about each attribute.\n"
      ]
    },
    {
      "cell_type": "code",
      "metadata": {
        "id": "YH4JuQ3Evs3D",
        "colab_type": "code",
        "colab": {}
      },
      "source": [
        "import pandas as pd\n",
        "import numpy as np"
      ],
      "execution_count": 0,
      "outputs": []
    },
    {
      "cell_type": "code",
      "metadata": {
        "id": "n-Dc6y1ytiXU",
        "colab_type": "code",
        "colab": {}
      },
      "source": [
        "#Reading train data \n",
        "train_attrition = pd.read_csv(\"/content/drive/My Drive/Colab Notebooks/Data/Traindata/train_attrition.csv\")\n",
        "train_work = pd.read_csv(\"/content/drive/My Drive/Colab Notebooks/Data/Traindata/train_work.csv\")\n"
      ],
      "execution_count": 0,
      "outputs": []
    },
    {
      "cell_type": "code",
      "metadata": {
        "id": "HhafwXNJxS_K",
        "colab_type": "code",
        "colab": {}
      },
      "source": [
        "#Reading the test data \n",
        "test_attrition = pd.read_csv(\"/content/drive/My Drive/Colab Notebooks/Data/Testdata/test_attrition.csv\")\n",
        "test_work = pd.read_csv(\"/content/drive/My Drive/Colab Notebooks/Data/Testdata/test_work.csv\")"
      ],
      "execution_count": 0,
      "outputs": []
    },
    {
      "cell_type": "code",
      "metadata": {
        "id": "I_Ba-dJVxsJ2",
        "colab_type": "code",
        "colab": {}
      },
      "source": [
        "#Reading the employee_data\n",
        "emp_data = pd.read_csv(\"/content/drive/My Drive/Colab Notebooks/Data/employee_data/employee_data.csv\")"
      ],
      "execution_count": 0,
      "outputs": []
    },
    {
      "cell_type": "code",
      "metadata": {
        "id": "j823NPfNx0ql",
        "colab_type": "code",
        "outputId": "5381a014-42d0-4bb8-ccd0-f9c491b6f2d6",
        "colab": {
          "base_uri": "https://localhost:8080/",
          "height": 195
        }
      },
      "source": [
        "#read the top 5 rows of the train_attrition data\n",
        "train_attrition.head() "
      ],
      "execution_count": 0,
      "outputs": [
        {
          "output_type": "execute_result",
          "data": {
            "text/html": [
              "<div>\n",
              "<style scoped>\n",
              "    .dataframe tbody tr th:only-of-type {\n",
              "        vertical-align: middle;\n",
              "    }\n",
              "\n",
              "    .dataframe tbody tr th {\n",
              "        vertical-align: top;\n",
              "    }\n",
              "\n",
              "    .dataframe thead th {\n",
              "        text-align: right;\n",
              "    }\n",
              "</style>\n",
              "<table border=\"1\" class=\"dataframe\">\n",
              "  <thead>\n",
              "    <tr style=\"text-align: right;\">\n",
              "      <th></th>\n",
              "      <th>EmployeeID</th>\n",
              "      <th>Left_Company</th>\n",
              "    </tr>\n",
              "  </thead>\n",
              "  <tbody>\n",
              "    <tr>\n",
              "      <th>0</th>\n",
              "      <td>emp-1</td>\n",
              "      <td>0.0</td>\n",
              "    </tr>\n",
              "    <tr>\n",
              "      <th>1</th>\n",
              "      <td>emp-10</td>\n",
              "      <td>1.0</td>\n",
              "    </tr>\n",
              "    <tr>\n",
              "      <th>2</th>\n",
              "      <td>emp-100</td>\n",
              "      <td>0.0</td>\n",
              "    </tr>\n",
              "    <tr>\n",
              "      <th>3</th>\n",
              "      <td>emp-101</td>\n",
              "      <td>0.0</td>\n",
              "    </tr>\n",
              "    <tr>\n",
              "      <th>4</th>\n",
              "      <td>emp-102</td>\n",
              "      <td>0.0</td>\n",
              "    </tr>\n",
              "  </tbody>\n",
              "</table>\n",
              "</div>"
            ],
            "text/plain": [
              "  EmployeeID  Left_Company\n",
              "0      emp-1           0.0\n",
              "1     emp-10           1.0\n",
              "2    emp-100           0.0\n",
              "3    emp-101           0.0\n",
              "4    emp-102           0.0"
            ]
          },
          "metadata": {
            "tags": []
          },
          "execution_count": 8
        }
      ]
    },
    {
      "cell_type": "markdown",
      "metadata": {
        "id": "R2FX6ORrjde0",
        "colab_type": "text"
      },
      "source": [
        "## Shape of the Raw training data."
      ]
    },
    {
      "cell_type": "markdown",
      "metadata": {
        "id": "V7Syta2HrkXg",
        "colab_type": "text"
      },
      "source": [
        "### No of Rows & Column in the train attrition & train work data."
      ]
    },
    {
      "cell_type": "code",
      "metadata": {
        "id": "vnNHr-dEzsCU",
        "colab_type": "code",
        "outputId": "2385fbd4-b52b-4e45-c213-84c764aa0af7",
        "colab": {
          "base_uri": "https://localhost:8080/",
          "height": 50
        }
      },
      "source": [
        "#dimensions of the train_attrition data.\n",
        "\n",
        "print(\"The train_attrition has {} rows & {} columns.\" .format(train_attrition.shape[0], train_attrition.shape[1]))\n",
        "print(\"The train_work has {} rows & {} columns.\" .format(train_work.shape[0], train_work.shape[1]))\n"
      ],
      "execution_count": 0,
      "outputs": [
        {
          "output_type": "stream",
          "text": [
            "The train_attrition has 245 rows & 2 columns.\n",
            "The train_work has 3983 rows & 7 columns.\n"
          ],
          "name": "stdout"
        }
      ]
    },
    {
      "cell_type": "code",
      "metadata": {
        "id": "ImEgqzlbx3wm",
        "colab_type": "code",
        "outputId": "370f09ef-fb0a-44dc-83dd-a22410a70c5b",
        "colab": {
          "base_uri": "https://localhost:8080/",
          "height": 195
        }
      },
      "source": [
        "train_work.head() #Reading the top 5 rows of train_work file"
      ],
      "execution_count": 0,
      "outputs": [
        {
          "output_type": "execute_result",
          "data": {
            "text/html": [
              "<div>\n",
              "<style scoped>\n",
              "    .dataframe tbody tr th:only-of-type {\n",
              "        vertical-align: middle;\n",
              "    }\n",
              "\n",
              "    .dataframe tbody tr th {\n",
              "        vertical-align: top;\n",
              "    }\n",
              "\n",
              "    .dataframe thead th {\n",
              "        text-align: right;\n",
              "    }\n",
              "</style>\n",
              "<table border=\"1\" class=\"dataframe\">\n",
              "  <thead>\n",
              "    <tr style=\"text-align: right;\">\n",
              "      <th></th>\n",
              "      <th>EmployeeID</th>\n",
              "      <th>TotalWorkingHours</th>\n",
              "      <th>Billable_Hours</th>\n",
              "      <th>Hours_off_Duty</th>\n",
              "      <th>Touring_Hours</th>\n",
              "      <th>NoOfProjects</th>\n",
              "      <th>ActualTimeSpent</th>\n",
              "    </tr>\n",
              "  </thead>\n",
              "  <tbody>\n",
              "    <tr>\n",
              "      <th>0</th>\n",
              "      <td>emp-1</td>\n",
              "      <td>184.0</td>\n",
              "      <td>144.0</td>\n",
              "      <td>40.0</td>\n",
              "      <td>144.0</td>\n",
              "      <td>3</td>\n",
              "      <td>77</td>\n",
              "    </tr>\n",
              "    <tr>\n",
              "      <th>1</th>\n",
              "      <td>emp-1</td>\n",
              "      <td>176.0</td>\n",
              "      <td>136.0</td>\n",
              "      <td>40.0</td>\n",
              "      <td>136.0</td>\n",
              "      <td>2</td>\n",
              "      <td>98</td>\n",
              "    </tr>\n",
              "    <tr>\n",
              "      <th>2</th>\n",
              "      <td>emp-1</td>\n",
              "      <td>200.0</td>\n",
              "      <td>120.0</td>\n",
              "      <td>72.0</td>\n",
              "      <td>120.0</td>\n",
              "      <td>1</td>\n",
              "      <td>14</td>\n",
              "    </tr>\n",
              "    <tr>\n",
              "      <th>3</th>\n",
              "      <td>emp-1</td>\n",
              "      <td>160.0</td>\n",
              "      <td>144.0</td>\n",
              "      <td>8.0</td>\n",
              "      <td>144.0</td>\n",
              "      <td>3</td>\n",
              "      <td>147</td>\n",
              "    </tr>\n",
              "    <tr>\n",
              "      <th>4</th>\n",
              "      <td>emp-1</td>\n",
              "      <td>171.0</td>\n",
              "      <td>135.0</td>\n",
              "      <td>0.0</td>\n",
              "      <td>135.0</td>\n",
              "      <td>1</td>\n",
              "      <td>42</td>\n",
              "    </tr>\n",
              "  </tbody>\n",
              "</table>\n",
              "</div>"
            ],
            "text/plain": [
              "  EmployeeID  TotalWorkingHours  ...  NoOfProjects  ActualTimeSpent\n",
              "0      emp-1              184.0  ...             3               77\n",
              "1      emp-1              176.0  ...             2               98\n",
              "2      emp-1              200.0  ...             1               14\n",
              "3      emp-1              160.0  ...             3              147\n",
              "4      emp-1              171.0  ...             1               42\n",
              "\n",
              "[5 rows x 7 columns]"
            ]
          },
          "metadata": {
            "tags": []
          },
          "execution_count": 10
        }
      ]
    },
    {
      "cell_type": "code",
      "metadata": {
        "id": "LI9wCyk4yAQD",
        "colab_type": "code",
        "outputId": "183d0c72-9937-4d5c-bc25-85c10aa4fbb0",
        "colab": {
          "base_uri": "https://localhost:8080/",
          "height": 195
        }
      },
      "source": [
        "#let's understand what is the employee_data\n",
        "emp_data.head()"
      ],
      "execution_count": 0,
      "outputs": [
        {
          "output_type": "execute_result",
          "data": {
            "text/html": [
              "<div>\n",
              "<style scoped>\n",
              "    .dataframe tbody tr th:only-of-type {\n",
              "        vertical-align: middle;\n",
              "    }\n",
              "\n",
              "    .dataframe tbody tr th {\n",
              "        vertical-align: top;\n",
              "    }\n",
              "\n",
              "    .dataframe thead th {\n",
              "        text-align: right;\n",
              "    }\n",
              "</style>\n",
              "<table border=\"1\" class=\"dataframe\">\n",
              "  <thead>\n",
              "    <tr style=\"text-align: right;\">\n",
              "      <th></th>\n",
              "      <th>EmployeeID</th>\n",
              "      <th>Job_History</th>\n",
              "      <th>Joining_Date</th>\n",
              "      <th>Designation</th>\n",
              "      <th>Sex</th>\n",
              "    </tr>\n",
              "  </thead>\n",
              "  <tbody>\n",
              "    <tr>\n",
              "      <th>0</th>\n",
              "      <td>emp-10</td>\n",
              "      <td>Worked at Company - 816 , Company - 724 , Comp...</td>\n",
              "      <td>2006_02</td>\n",
              "      <td>VP</td>\n",
              "      <td>0</td>\n",
              "    </tr>\n",
              "    <tr>\n",
              "      <th>1</th>\n",
              "      <td>emp-108</td>\n",
              "      <td>Worked at Company - 205 , Company - 373 , Comp...</td>\n",
              "      <td>2012_01</td>\n",
              "      <td>VP</td>\n",
              "      <td>1</td>\n",
              "    </tr>\n",
              "    <tr>\n",
              "      <th>2</th>\n",
              "      <td>emp-115</td>\n",
              "      <td>Worked at Company - 690 , Company - 280 , Comp...</td>\n",
              "      <td>2012_02</td>\n",
              "      <td>Senior</td>\n",
              "      <td>1</td>\n",
              "    </tr>\n",
              "    <tr>\n",
              "      <th>3</th>\n",
              "      <td>emp-121</td>\n",
              "      <td>Worked at Company - 684 , Company - 159 , Comp...</td>\n",
              "      <td>2012_03</td>\n",
              "      <td>VP</td>\n",
              "      <td>1</td>\n",
              "    </tr>\n",
              "    <tr>\n",
              "      <th>4</th>\n",
              "      <td>emp-138</td>\n",
              "      <td>Worked at Company - 443 , Company - 121 , Comp...</td>\n",
              "      <td>2012_05</td>\n",
              "      <td>Senior</td>\n",
              "      <td>1</td>\n",
              "    </tr>\n",
              "  </tbody>\n",
              "</table>\n",
              "</div>"
            ],
            "text/plain": [
              "  EmployeeID  ... Sex\n",
              "0     emp-10  ...   0\n",
              "1    emp-108  ...   1\n",
              "2    emp-115  ...   1\n",
              "3    emp-121  ...   1\n",
              "4    emp-138  ...   1\n",
              "\n",
              "[5 rows x 5 columns]"
            ]
          },
          "metadata": {
            "tags": []
          },
          "execution_count": 11
        }
      ]
    },
    {
      "cell_type": "markdown",
      "metadata": {
        "id": "8wDd9Z5zjnvA",
        "colab_type": "text"
      },
      "source": [
        "## Employee data of both Train & Test data.\n"
      ]
    },
    {
      "cell_type": "markdown",
      "metadata": {
        "id": "gOgBNBlbrN4z",
        "colab_type": "text"
      },
      "source": [
        "### Shape of the Employee Data."
      ]
    },
    {
      "cell_type": "code",
      "metadata": {
        "id": "JXZ44NLx0WeQ",
        "colab_type": "code",
        "outputId": "47421605-286c-4606-a39d-20aadb918fe5",
        "colab": {
          "base_uri": "https://localhost:8080/"
        }
      },
      "source": [
        "print(\"The employee data has {} rows & {} columns.\" .format(emp_data.shape[0], emp_data.shape[1]))"
      ],
      "execution_count": 0,
      "outputs": [
        {
          "output_type": "stream",
          "text": [
            "The employee data has 296 rows & 5 columns.\n"
          ],
          "name": "stdout"
        }
      ]
    },
    {
      "cell_type": "code",
      "metadata": {
        "id": "gnB1NGaw0mFE",
        "colab_type": "code",
        "outputId": "4efd3728-3f2c-49dc-d037-d1870626e390",
        "colab": {
          "base_uri": "https://localhost:8080/"
        }
      },
      "source": [
        "#Let's see the top rows of the test data \n",
        "\n",
        "test_attrition.head()"
      ],
      "execution_count": 0,
      "outputs": [
        {
          "output_type": "execute_result",
          "data": {
            "text/html": [
              "<div>\n",
              "<style scoped>\n",
              "    .dataframe tbody tr th:only-of-type {\n",
              "        vertical-align: middle;\n",
              "    }\n",
              "\n",
              "    .dataframe tbody tr th {\n",
              "        vertical-align: top;\n",
              "    }\n",
              "\n",
              "    .dataframe thead th {\n",
              "        text-align: right;\n",
              "    }\n",
              "</style>\n",
              "<table border=\"1\" class=\"dataframe\">\n",
              "  <thead>\n",
              "    <tr style=\"text-align: right;\">\n",
              "      <th></th>\n",
              "      <th>EmployeeID</th>\n",
              "      <th>Left_Company</th>\n",
              "    </tr>\n",
              "  </thead>\n",
              "  <tbody>\n",
              "    <tr>\n",
              "      <th>0</th>\n",
              "      <td>emp-106</td>\n",
              "      <td>NaN</td>\n",
              "    </tr>\n",
              "    <tr>\n",
              "      <th>1</th>\n",
              "      <td>emp-112</td>\n",
              "      <td>NaN</td>\n",
              "    </tr>\n",
              "    <tr>\n",
              "      <th>2</th>\n",
              "      <td>emp-114</td>\n",
              "      <td>NaN</td>\n",
              "    </tr>\n",
              "    <tr>\n",
              "      <th>3</th>\n",
              "      <td>emp-118</td>\n",
              "      <td>NaN</td>\n",
              "    </tr>\n",
              "    <tr>\n",
              "      <th>4</th>\n",
              "      <td>emp-12</td>\n",
              "      <td>NaN</td>\n",
              "    </tr>\n",
              "  </tbody>\n",
              "</table>\n",
              "</div>"
            ],
            "text/plain": [
              "  EmployeeID  Left_Company\n",
              "0    emp-106           NaN\n",
              "1    emp-112           NaN\n",
              "2    emp-114           NaN\n",
              "3    emp-118           NaN\n",
              "4     emp-12           NaN"
            ]
          },
          "metadata": {
            "tags": []
          },
          "execution_count": 13
        }
      ]
    },
    {
      "cell_type": "markdown",
      "metadata": {
        "id": "MGWH3k6urWkZ",
        "colab_type": "text"
      },
      "source": [
        "### No of Rows & Column in th test attrition & test work data."
      ]
    },
    {
      "cell_type": "code",
      "metadata": {
        "id": "LGpJjsbF1eG6",
        "colab_type": "code",
        "outputId": "563e9ed1-78a7-4c2f-b83b-72a187d968df",
        "colab": {
          "base_uri": "https://localhost:8080/"
        }
      },
      "source": [
        "print(\"The Test Attrition data has {} rows & {} columns.\" .format(test_attrition.shape[0], test_attrition.shape[1]))\n",
        "print(\"The Test work has {} rows & {} columns.\" .format(test_work.shape[0], test_work.shape[1]))\n"
      ],
      "execution_count": 0,
      "outputs": [
        {
          "output_type": "stream",
          "text": [
            "The Test Attrition data has 51 rows & 2 columns.\n",
            "The Test work has 874 rows & 7 columns.\n"
          ],
          "name": "stdout"
        }
      ]
    },
    {
      "cell_type": "markdown",
      "metadata": {
        "id": "D9G3nirU00jw",
        "colab_type": "text"
      },
      "source": [
        "**We need to predict weather these will leave the company**"
      ]
    },
    {
      "cell_type": "code",
      "metadata": {
        "id": "V-Tb9Bgi0yiI",
        "colab_type": "code",
        "outputId": "90327198-55cd-4aed-8fb2-aa6aab7af04d",
        "colab": {
          "base_uri": "https://localhost:8080/"
        }
      },
      "source": [
        "test_work.head()"
      ],
      "execution_count": 0,
      "outputs": [
        {
          "output_type": "execute_result",
          "data": {
            "text/html": [
              "<div>\n",
              "<style scoped>\n",
              "    .dataframe tbody tr th:only-of-type {\n",
              "        vertical-align: middle;\n",
              "    }\n",
              "\n",
              "    .dataframe tbody tr th {\n",
              "        vertical-align: top;\n",
              "    }\n",
              "\n",
              "    .dataframe thead th {\n",
              "        text-align: right;\n",
              "    }\n",
              "</style>\n",
              "<table border=\"1\" class=\"dataframe\">\n",
              "  <thead>\n",
              "    <tr style=\"text-align: right;\">\n",
              "      <th></th>\n",
              "      <th>EmployeeID</th>\n",
              "      <th>TotalWorkingHours</th>\n",
              "      <th>Billable_Hours</th>\n",
              "      <th>Hours_off_Duty</th>\n",
              "      <th>Touring_Hours</th>\n",
              "      <th>NoOfProjects</th>\n",
              "      <th>ActualTimeSpent</th>\n",
              "    </tr>\n",
              "  </thead>\n",
              "  <tbody>\n",
              "    <tr>\n",
              "      <th>0</th>\n",
              "      <td>emp-2</td>\n",
              "      <td>170.0</td>\n",
              "      <td>124.0</td>\n",
              "      <td>8.0</td>\n",
              "      <td>0.0</td>\n",
              "      <td>4</td>\n",
              "      <td>77</td>\n",
              "    </tr>\n",
              "    <tr>\n",
              "      <th>1</th>\n",
              "      <td>emp-2</td>\n",
              "      <td>164.0</td>\n",
              "      <td>114.0</td>\n",
              "      <td>24.0</td>\n",
              "      <td>0.0</td>\n",
              "      <td>4</td>\n",
              "      <td>105</td>\n",
              "    </tr>\n",
              "    <tr>\n",
              "      <th>2</th>\n",
              "      <td>emp-2</td>\n",
              "      <td>201.0</td>\n",
              "      <td>139.0</td>\n",
              "      <td>48.0</td>\n",
              "      <td>0.0</td>\n",
              "      <td>4</td>\n",
              "      <td>112</td>\n",
              "    </tr>\n",
              "    <tr>\n",
              "      <th>3</th>\n",
              "      <td>emp-2</td>\n",
              "      <td>153.0</td>\n",
              "      <td>114.0</td>\n",
              "      <td>24.0</td>\n",
              "      <td>0.0</td>\n",
              "      <td>2</td>\n",
              "      <td>91</td>\n",
              "    </tr>\n",
              "    <tr>\n",
              "      <th>4</th>\n",
              "      <td>emp-2</td>\n",
              "      <td>122.0</td>\n",
              "      <td>106.0</td>\n",
              "      <td>0.0</td>\n",
              "      <td>0.0</td>\n",
              "      <td>2</td>\n",
              "      <td>98</td>\n",
              "    </tr>\n",
              "  </tbody>\n",
              "</table>\n",
              "</div>"
            ],
            "text/plain": [
              "  EmployeeID  TotalWorkingHours  ...  NoOfProjects  ActualTimeSpent\n",
              "0      emp-2              170.0  ...             4               77\n",
              "1      emp-2              164.0  ...             4              105\n",
              "2      emp-2              201.0  ...             4              112\n",
              "3      emp-2              153.0  ...             2               91\n",
              "4      emp-2              122.0  ...             2               98\n",
              "\n",
              "[5 rows x 7 columns]"
            ]
          },
          "metadata": {
            "tags": []
          },
          "execution_count": 15
        }
      ]
    },
    {
      "cell_type": "markdown",
      "metadata": {
        "id": "RqDMt3Cyyeif",
        "colab_type": "text"
      },
      "source": [
        "# Description of the features\n",
        "\n",
        "● Left_Company (Target) : Whether the employee left the  company or not (1 - Yes, 0 - No).\n",
        "\n",
        "● EmployeeID : A unique identification key for every individual employee.\n",
        "\n",
        "● TotalWorkingHours : The total working hours logged for the employee at the location.\n",
        "\n",
        "● Billable_Hours : The number of hours that are used to charge the Client.\n",
        "\n",
        "● Hours_off_Duty : Number of hours the employee took off.\n",
        "\n",
        "● Touring_Hours : Number of hours the employee spent working at an offsite location.\n",
        "\n",
        "● NoOfProjects : Number of Projects the employee is assigned to.\n",
        "\n",
        "● ActualTimeSpent : Actual time the employee spent working according to the timesheets.\n",
        "\n",
        "● Job_History : A feature containing the previous companies where the employee was employed.\n",
        "\n",
        "● Joining_Date : The date on which the employee Joined the organisation.\n",
        "\n",
        "● Designation : The role of the employee in the company, with the following levels: EVP, Junior, MD, Senior, VP.\n",
        "\n",
        "● Sex : The gender of the employee."
      ]
    },
    {
      "cell_type": "markdown",
      "metadata": {
        "id": "06a_LN6q1-bR",
        "colab_type": "text"
      },
      "source": [
        "## Merging the datasets based on the employee data."
      ]
    },
    {
      "cell_type": "code",
      "metadata": {
        "id": "yDksHvfx5Lmu",
        "colab_type": "code",
        "outputId": "099a8df7-5250-444d-f1df-95bf1342424a",
        "colab": {
          "base_uri": "https://localhost:8080/"
        }
      },
      "source": [
        "train_attrition.head()"
      ],
      "execution_count": 0,
      "outputs": [
        {
          "output_type": "execute_result",
          "data": {
            "text/html": [
              "<div>\n",
              "<style scoped>\n",
              "    .dataframe tbody tr th:only-of-type {\n",
              "        vertical-align: middle;\n",
              "    }\n",
              "\n",
              "    .dataframe tbody tr th {\n",
              "        vertical-align: top;\n",
              "    }\n",
              "\n",
              "    .dataframe thead th {\n",
              "        text-align: right;\n",
              "    }\n",
              "</style>\n",
              "<table border=\"1\" class=\"dataframe\">\n",
              "  <thead>\n",
              "    <tr style=\"text-align: right;\">\n",
              "      <th></th>\n",
              "      <th>EmployeeID</th>\n",
              "      <th>Left_Company</th>\n",
              "    </tr>\n",
              "  </thead>\n",
              "  <tbody>\n",
              "    <tr>\n",
              "      <th>0</th>\n",
              "      <td>emp-1</td>\n",
              "      <td>0.0</td>\n",
              "    </tr>\n",
              "    <tr>\n",
              "      <th>1</th>\n",
              "      <td>emp-10</td>\n",
              "      <td>1.0</td>\n",
              "    </tr>\n",
              "    <tr>\n",
              "      <th>2</th>\n",
              "      <td>emp-100</td>\n",
              "      <td>0.0</td>\n",
              "    </tr>\n",
              "    <tr>\n",
              "      <th>3</th>\n",
              "      <td>emp-101</td>\n",
              "      <td>0.0</td>\n",
              "    </tr>\n",
              "    <tr>\n",
              "      <th>4</th>\n",
              "      <td>emp-102</td>\n",
              "      <td>0.0</td>\n",
              "    </tr>\n",
              "  </tbody>\n",
              "</table>\n",
              "</div>"
            ],
            "text/plain": [
              "  EmployeeID  Left_Company\n",
              "0      emp-1           0.0\n",
              "1     emp-10           1.0\n",
              "2    emp-100           0.0\n",
              "3    emp-101           0.0\n",
              "4    emp-102           0.0"
            ]
          },
          "metadata": {
            "tags": []
          },
          "execution_count": 16
        }
      ]
    },
    {
      "cell_type": "code",
      "metadata": {
        "id": "innUPUBt5Oxy",
        "colab_type": "code",
        "outputId": "b6838760-4491-4255-e643-ba086a2ca2d5",
        "colab": {
          "base_uri": "https://localhost:8080/"
        }
      },
      "source": [
        "emp_data.head()"
      ],
      "execution_count": 0,
      "outputs": [
        {
          "output_type": "execute_result",
          "data": {
            "text/html": [
              "<div>\n",
              "<style scoped>\n",
              "    .dataframe tbody tr th:only-of-type {\n",
              "        vertical-align: middle;\n",
              "    }\n",
              "\n",
              "    .dataframe tbody tr th {\n",
              "        vertical-align: top;\n",
              "    }\n",
              "\n",
              "    .dataframe thead th {\n",
              "        text-align: right;\n",
              "    }\n",
              "</style>\n",
              "<table border=\"1\" class=\"dataframe\">\n",
              "  <thead>\n",
              "    <tr style=\"text-align: right;\">\n",
              "      <th></th>\n",
              "      <th>EmployeeID</th>\n",
              "      <th>Job_History</th>\n",
              "      <th>Joining_Date</th>\n",
              "      <th>Designation</th>\n",
              "      <th>Sex</th>\n",
              "    </tr>\n",
              "  </thead>\n",
              "  <tbody>\n",
              "    <tr>\n",
              "      <th>0</th>\n",
              "      <td>emp-10</td>\n",
              "      <td>Worked at Company - 816 , Company - 724 , Comp...</td>\n",
              "      <td>2006_02</td>\n",
              "      <td>VP</td>\n",
              "      <td>0</td>\n",
              "    </tr>\n",
              "    <tr>\n",
              "      <th>1</th>\n",
              "      <td>emp-108</td>\n",
              "      <td>Worked at Company - 205 , Company - 373 , Comp...</td>\n",
              "      <td>2012_01</td>\n",
              "      <td>VP</td>\n",
              "      <td>1</td>\n",
              "    </tr>\n",
              "    <tr>\n",
              "      <th>2</th>\n",
              "      <td>emp-115</td>\n",
              "      <td>Worked at Company - 690 , Company - 280 , Comp...</td>\n",
              "      <td>2012_02</td>\n",
              "      <td>Senior</td>\n",
              "      <td>1</td>\n",
              "    </tr>\n",
              "    <tr>\n",
              "      <th>3</th>\n",
              "      <td>emp-121</td>\n",
              "      <td>Worked at Company - 684 , Company - 159 , Comp...</td>\n",
              "      <td>2012_03</td>\n",
              "      <td>VP</td>\n",
              "      <td>1</td>\n",
              "    </tr>\n",
              "    <tr>\n",
              "      <th>4</th>\n",
              "      <td>emp-138</td>\n",
              "      <td>Worked at Company - 443 , Company - 121 , Comp...</td>\n",
              "      <td>2012_05</td>\n",
              "      <td>Senior</td>\n",
              "      <td>1</td>\n",
              "    </tr>\n",
              "  </tbody>\n",
              "</table>\n",
              "</div>"
            ],
            "text/plain": [
              "  EmployeeID  ... Sex\n",
              "0     emp-10  ...   0\n",
              "1    emp-108  ...   1\n",
              "2    emp-115  ...   1\n",
              "3    emp-121  ...   1\n",
              "4    emp-138  ...   1\n",
              "\n",
              "[5 rows x 5 columns]"
            ]
          },
          "metadata": {
            "tags": []
          },
          "execution_count": 17
        }
      ]
    },
    {
      "cell_type": "markdown",
      "metadata": {
        "id": "lI7JEamK-A3i",
        "colab_type": "text"
      },
      "source": [
        "## Merging the train data into a single datafrfame"
      ]
    },
    {
      "cell_type": "code",
      "metadata": {
        "id": "377tITWL5njU",
        "colab_type": "code",
        "colab": {}
      },
      "source": [
        "train_emp_data = pd.merge(train_attrition, emp_data, how='left', on='EmployeeID')"
      ],
      "execution_count": 0,
      "outputs": []
    },
    {
      "cell_type": "code",
      "metadata": {
        "id": "iJwENagu6LoF",
        "colab_type": "code",
        "outputId": "564e7a80-221b-483b-8979-7b505802476b",
        "colab": {
          "base_uri": "https://localhost:8080/"
        }
      },
      "source": [
        "train_emp_data.shape"
      ],
      "execution_count": 0,
      "outputs": [
        {
          "output_type": "execute_result",
          "data": {
            "text/plain": [
              "(245, 6)"
            ]
          },
          "metadata": {
            "tags": []
          },
          "execution_count": 19
        }
      ]
    },
    {
      "cell_type": "code",
      "metadata": {
        "id": "T58WM-Zh6SlX",
        "colab_type": "code",
        "outputId": "e61ecd1b-7049-4fb7-cc30-4ba56b976d77",
        "colab": {
          "base_uri": "https://localhost:8080/"
        }
      },
      "source": [
        "train_emp_data.head()"
      ],
      "execution_count": 0,
      "outputs": [
        {
          "output_type": "execute_result",
          "data": {
            "text/html": [
              "<div>\n",
              "<style scoped>\n",
              "    .dataframe tbody tr th:only-of-type {\n",
              "        vertical-align: middle;\n",
              "    }\n",
              "\n",
              "    .dataframe tbody tr th {\n",
              "        vertical-align: top;\n",
              "    }\n",
              "\n",
              "    .dataframe thead th {\n",
              "        text-align: right;\n",
              "    }\n",
              "</style>\n",
              "<table border=\"1\" class=\"dataframe\">\n",
              "  <thead>\n",
              "    <tr style=\"text-align: right;\">\n",
              "      <th></th>\n",
              "      <th>EmployeeID</th>\n",
              "      <th>Left_Company</th>\n",
              "      <th>Job_History</th>\n",
              "      <th>Joining_Date</th>\n",
              "      <th>Designation</th>\n",
              "      <th>Sex</th>\n",
              "    </tr>\n",
              "  </thead>\n",
              "  <tbody>\n",
              "    <tr>\n",
              "      <th>0</th>\n",
              "      <td>emp-1</td>\n",
              "      <td>0.0</td>\n",
              "      <td>Worked at Company - 639 , Company - 212 , Comp...</td>\n",
              "      <td>2011_01</td>\n",
              "      <td>MD</td>\n",
              "      <td>1</td>\n",
              "    </tr>\n",
              "    <tr>\n",
              "      <th>1</th>\n",
              "      <td>emp-10</td>\n",
              "      <td>1.0</td>\n",
              "      <td>Worked at Company - 816 , Company - 724 , Comp...</td>\n",
              "      <td>2006_02</td>\n",
              "      <td>VP</td>\n",
              "      <td>0</td>\n",
              "    </tr>\n",
              "    <tr>\n",
              "      <th>2</th>\n",
              "      <td>emp-100</td>\n",
              "      <td>0.0</td>\n",
              "      <td>Worked at Company - 562 , Company - 319</td>\n",
              "      <td>2011_12</td>\n",
              "      <td>Senior</td>\n",
              "      <td>1</td>\n",
              "    </tr>\n",
              "    <tr>\n",
              "      <th>3</th>\n",
              "      <td>emp-101</td>\n",
              "      <td>0.0</td>\n",
              "      <td>Worked at Company - 212 , Company - 668 , Comp...</td>\n",
              "      <td>2012_01</td>\n",
              "      <td>Senior</td>\n",
              "      <td>1</td>\n",
              "    </tr>\n",
              "    <tr>\n",
              "      <th>4</th>\n",
              "      <td>emp-102</td>\n",
              "      <td>0.0</td>\n",
              "      <td>Worked at Company - 234</td>\n",
              "      <td>2011_12</td>\n",
              "      <td>Senior</td>\n",
              "      <td>1</td>\n",
              "    </tr>\n",
              "  </tbody>\n",
              "</table>\n",
              "</div>"
            ],
            "text/plain": [
              "  EmployeeID  Left_Company  ... Designation Sex\n",
              "0      emp-1           0.0  ...          MD   1\n",
              "1     emp-10           1.0  ...          VP   0\n",
              "2    emp-100           0.0  ...      Senior   1\n",
              "3    emp-101           0.0  ...      Senior   1\n",
              "4    emp-102           0.0  ...      Senior   1\n",
              "\n",
              "[5 rows x 6 columns]"
            ]
          },
          "metadata": {
            "tags": []
          },
          "execution_count": 20
        }
      ]
    },
    {
      "cell_type": "code",
      "metadata": {
        "id": "5nl4ijkO6Nsp",
        "colab_type": "code",
        "colab": {}
      },
      "source": [
        "train_final = pd.merge(train_emp_data, train_work, on='EmployeeID', how='left')"
      ],
      "execution_count": 0,
      "outputs": []
    },
    {
      "cell_type": "code",
      "metadata": {
        "id": "-gLyZFp06gIW",
        "colab_type": "code",
        "outputId": "631f0ace-7682-475f-d095-647fb5fa2cfb",
        "colab": {
          "base_uri": "https://localhost:8080/"
        }
      },
      "source": [
        "train_final.shape"
      ],
      "execution_count": 0,
      "outputs": [
        {
          "output_type": "execute_result",
          "data": {
            "text/plain": [
              "(3983, 12)"
            ]
          },
          "metadata": {
            "tags": []
          },
          "execution_count": 22
        }
      ]
    },
    {
      "cell_type": "code",
      "metadata": {
        "id": "n6aZ2V846onv",
        "colab_type": "code",
        "outputId": "9254457f-8f56-49bb-8feb-6bfd52e87b12",
        "colab": {
          "base_uri": "https://localhost:8080/"
        }
      },
      "source": [
        "train_final.head()"
      ],
      "execution_count": 0,
      "outputs": [
        {
          "output_type": "execute_result",
          "data": {
            "text/html": [
              "<div>\n",
              "<style scoped>\n",
              "    .dataframe tbody tr th:only-of-type {\n",
              "        vertical-align: middle;\n",
              "    }\n",
              "\n",
              "    .dataframe tbody tr th {\n",
              "        vertical-align: top;\n",
              "    }\n",
              "\n",
              "    .dataframe thead th {\n",
              "        text-align: right;\n",
              "    }\n",
              "</style>\n",
              "<table border=\"1\" class=\"dataframe\">\n",
              "  <thead>\n",
              "    <tr style=\"text-align: right;\">\n",
              "      <th></th>\n",
              "      <th>EmployeeID</th>\n",
              "      <th>Left_Company</th>\n",
              "      <th>Job_History</th>\n",
              "      <th>Joining_Date</th>\n",
              "      <th>Designation</th>\n",
              "      <th>Sex</th>\n",
              "      <th>TotalWorkingHours</th>\n",
              "      <th>Billable_Hours</th>\n",
              "      <th>Hours_off_Duty</th>\n",
              "      <th>Touring_Hours</th>\n",
              "      <th>NoOfProjects</th>\n",
              "      <th>ActualTimeSpent</th>\n",
              "    </tr>\n",
              "  </thead>\n",
              "  <tbody>\n",
              "    <tr>\n",
              "      <th>0</th>\n",
              "      <td>emp-1</td>\n",
              "      <td>0.0</td>\n",
              "      <td>Worked at Company - 639 , Company - 212 , Comp...</td>\n",
              "      <td>2011_01</td>\n",
              "      <td>MD</td>\n",
              "      <td>1</td>\n",
              "      <td>184.0</td>\n",
              "      <td>144.0</td>\n",
              "      <td>40.0</td>\n",
              "      <td>144.0</td>\n",
              "      <td>3</td>\n",
              "      <td>77</td>\n",
              "    </tr>\n",
              "    <tr>\n",
              "      <th>1</th>\n",
              "      <td>emp-1</td>\n",
              "      <td>0.0</td>\n",
              "      <td>Worked at Company - 639 , Company - 212 , Comp...</td>\n",
              "      <td>2011_01</td>\n",
              "      <td>MD</td>\n",
              "      <td>1</td>\n",
              "      <td>176.0</td>\n",
              "      <td>136.0</td>\n",
              "      <td>40.0</td>\n",
              "      <td>136.0</td>\n",
              "      <td>2</td>\n",
              "      <td>98</td>\n",
              "    </tr>\n",
              "    <tr>\n",
              "      <th>2</th>\n",
              "      <td>emp-1</td>\n",
              "      <td>0.0</td>\n",
              "      <td>Worked at Company - 639 , Company - 212 , Comp...</td>\n",
              "      <td>2011_01</td>\n",
              "      <td>MD</td>\n",
              "      <td>1</td>\n",
              "      <td>200.0</td>\n",
              "      <td>120.0</td>\n",
              "      <td>72.0</td>\n",
              "      <td>120.0</td>\n",
              "      <td>1</td>\n",
              "      <td>14</td>\n",
              "    </tr>\n",
              "    <tr>\n",
              "      <th>3</th>\n",
              "      <td>emp-1</td>\n",
              "      <td>0.0</td>\n",
              "      <td>Worked at Company - 639 , Company - 212 , Comp...</td>\n",
              "      <td>2011_01</td>\n",
              "      <td>MD</td>\n",
              "      <td>1</td>\n",
              "      <td>160.0</td>\n",
              "      <td>144.0</td>\n",
              "      <td>8.0</td>\n",
              "      <td>144.0</td>\n",
              "      <td>3</td>\n",
              "      <td>147</td>\n",
              "    </tr>\n",
              "    <tr>\n",
              "      <th>4</th>\n",
              "      <td>emp-1</td>\n",
              "      <td>0.0</td>\n",
              "      <td>Worked at Company - 639 , Company - 212 , Comp...</td>\n",
              "      <td>2011_01</td>\n",
              "      <td>MD</td>\n",
              "      <td>1</td>\n",
              "      <td>171.0</td>\n",
              "      <td>135.0</td>\n",
              "      <td>0.0</td>\n",
              "      <td>135.0</td>\n",
              "      <td>1</td>\n",
              "      <td>42</td>\n",
              "    </tr>\n",
              "  </tbody>\n",
              "</table>\n",
              "</div>"
            ],
            "text/plain": [
              "  EmployeeID  Left_Company  ... NoOfProjects ActualTimeSpent\n",
              "0      emp-1           0.0  ...            3              77\n",
              "1      emp-1           0.0  ...            2              98\n",
              "2      emp-1           0.0  ...            1              14\n",
              "3      emp-1           0.0  ...            3             147\n",
              "4      emp-1           0.0  ...            1              42\n",
              "\n",
              "[5 rows x 12 columns]"
            ]
          },
          "metadata": {
            "tags": []
          },
          "execution_count": 23
        }
      ]
    },
    {
      "cell_type": "code",
      "metadata": {
        "id": "33y7nyaa6w6_",
        "colab_type": "code",
        "colab": {}
      },
      "source": [
        "#considering only the columns in the train_attrition using groupby  & agg function.\n",
        "train = train_final.groupby('EmployeeID').agg('max')"
      ],
      "execution_count": 0,
      "outputs": []
    },
    {
      "cell_type": "code",
      "metadata": {
        "id": "BKyuLLwo8P9X",
        "colab_type": "code",
        "outputId": "ca4bec17-9e3a-4f42-ebac-749037631c31",
        "colab": {
          "base_uri": "https://localhost:8080/"
        }
      },
      "source": [
        "train.head()"
      ],
      "execution_count": 0,
      "outputs": [
        {
          "output_type": "execute_result",
          "data": {
            "text/html": [
              "<div>\n",
              "<style scoped>\n",
              "    .dataframe tbody tr th:only-of-type {\n",
              "        vertical-align: middle;\n",
              "    }\n",
              "\n",
              "    .dataframe tbody tr th {\n",
              "        vertical-align: top;\n",
              "    }\n",
              "\n",
              "    .dataframe thead th {\n",
              "        text-align: right;\n",
              "    }\n",
              "</style>\n",
              "<table border=\"1\" class=\"dataframe\">\n",
              "  <thead>\n",
              "    <tr style=\"text-align: right;\">\n",
              "      <th></th>\n",
              "      <th>Left_Company</th>\n",
              "      <th>Job_History</th>\n",
              "      <th>Joining_Date</th>\n",
              "      <th>Designation</th>\n",
              "      <th>Sex</th>\n",
              "      <th>TotalWorkingHours</th>\n",
              "      <th>Billable_Hours</th>\n",
              "      <th>Hours_off_Duty</th>\n",
              "      <th>Touring_Hours</th>\n",
              "      <th>NoOfProjects</th>\n",
              "      <th>ActualTimeSpent</th>\n",
              "    </tr>\n",
              "    <tr>\n",
              "      <th>EmployeeID</th>\n",
              "      <th></th>\n",
              "      <th></th>\n",
              "      <th></th>\n",
              "      <th></th>\n",
              "      <th></th>\n",
              "      <th></th>\n",
              "      <th></th>\n",
              "      <th></th>\n",
              "      <th></th>\n",
              "      <th></th>\n",
              "      <th></th>\n",
              "    </tr>\n",
              "  </thead>\n",
              "  <tbody>\n",
              "    <tr>\n",
              "      <th>emp-1</th>\n",
              "      <td>0.0</td>\n",
              "      <td>Worked at Company - 639 , Company - 212 , Comp...</td>\n",
              "      <td>2011_01</td>\n",
              "      <td>MD</td>\n",
              "      <td>1</td>\n",
              "      <td>205.0</td>\n",
              "      <td>189.0</td>\n",
              "      <td>72.0</td>\n",
              "      <td>189.0</td>\n",
              "      <td>3</td>\n",
              "      <td>231</td>\n",
              "    </tr>\n",
              "    <tr>\n",
              "      <th>emp-10</th>\n",
              "      <td>1.0</td>\n",
              "      <td>Worked at Company - 816 , Company - 724 , Comp...</td>\n",
              "      <td>2006_02</td>\n",
              "      <td>VP</td>\n",
              "      <td>0</td>\n",
              "      <td>241.0</td>\n",
              "      <td>233.0</td>\n",
              "      <td>120.0</td>\n",
              "      <td>186.0</td>\n",
              "      <td>2</td>\n",
              "      <td>147</td>\n",
              "    </tr>\n",
              "    <tr>\n",
              "      <th>emp-100</th>\n",
              "      <td>0.0</td>\n",
              "      <td>Worked at Company - 562 , Company - 319</td>\n",
              "      <td>2011_12</td>\n",
              "      <td>Senior</td>\n",
              "      <td>1</td>\n",
              "      <td>278.0</td>\n",
              "      <td>264.0</td>\n",
              "      <td>40.0</td>\n",
              "      <td>264.0</td>\n",
              "      <td>3</td>\n",
              "      <td>308</td>\n",
              "    </tr>\n",
              "    <tr>\n",
              "      <th>emp-101</th>\n",
              "      <td>0.0</td>\n",
              "      <td>Worked at Company - 212 , Company - 668 , Comp...</td>\n",
              "      <td>2012_01</td>\n",
              "      <td>Senior</td>\n",
              "      <td>1</td>\n",
              "      <td>345.5</td>\n",
              "      <td>233.5</td>\n",
              "      <td>64.0</td>\n",
              "      <td>0.0</td>\n",
              "      <td>2</td>\n",
              "      <td>217</td>\n",
              "    </tr>\n",
              "    <tr>\n",
              "      <th>emp-102</th>\n",
              "      <td>0.0</td>\n",
              "      <td>Worked at Company - 234</td>\n",
              "      <td>2011_12</td>\n",
              "      <td>Senior</td>\n",
              "      <td>1</td>\n",
              "      <td>270.0</td>\n",
              "      <td>249.0</td>\n",
              "      <td>88.0</td>\n",
              "      <td>213.0</td>\n",
              "      <td>2</td>\n",
              "      <td>231</td>\n",
              "    </tr>\n",
              "  </tbody>\n",
              "</table>\n",
              "</div>"
            ],
            "text/plain": [
              "            Left_Company  ... ActualTimeSpent\n",
              "EmployeeID                ...                \n",
              "emp-1                0.0  ...             231\n",
              "emp-10               1.0  ...             147\n",
              "emp-100              0.0  ...             308\n",
              "emp-101              0.0  ...             217\n",
              "emp-102              0.0  ...             231\n",
              "\n",
              "[5 rows x 11 columns]"
            ]
          },
          "metadata": {
            "tags": []
          },
          "execution_count": 25
        }
      ]
    },
    {
      "cell_type": "code",
      "metadata": {
        "id": "nkdY9b9V8RXT",
        "colab_type": "code",
        "outputId": "f2b13bfb-a326-4723-833a-bfb329313257",
        "colab": {
          "base_uri": "https://localhost:8080/"
        }
      },
      "source": [
        "train.shape"
      ],
      "execution_count": 0,
      "outputs": [
        {
          "output_type": "execute_result",
          "data": {
            "text/plain": [
              "(245, 11)"
            ]
          },
          "metadata": {
            "tags": []
          },
          "execution_count": 26
        }
      ]
    },
    {
      "cell_type": "markdown",
      "metadata": {
        "id": "8YFhOsCTsV5u",
        "colab_type": "text"
      },
      "source": [
        "## Merging the test data into Single data frame. "
      ]
    },
    {
      "cell_type": "code",
      "metadata": {
        "id": "sTgr78h8827i",
        "colab_type": "code",
        "colab": {}
      },
      "source": [
        "#merging the test data \n",
        "\n",
        "test_emp_data = pd.merge(test_attrition, emp_data, how='left', on='EmployeeID')\n"
      ],
      "execution_count": 0,
      "outputs": []
    },
    {
      "cell_type": "code",
      "metadata": {
        "id": "ooIridVM-liQ",
        "colab_type": "code",
        "outputId": "aa79ca41-7bb0-4f4b-8370-ac82fda72a75",
        "colab": {
          "base_uri": "https://localhost:8080/"
        }
      },
      "source": [
        "test_emp_data.head()"
      ],
      "execution_count": 0,
      "outputs": [
        {
          "output_type": "execute_result",
          "data": {
            "text/html": [
              "<div>\n",
              "<style scoped>\n",
              "    .dataframe tbody tr th:only-of-type {\n",
              "        vertical-align: middle;\n",
              "    }\n",
              "\n",
              "    .dataframe tbody tr th {\n",
              "        vertical-align: top;\n",
              "    }\n",
              "\n",
              "    .dataframe thead th {\n",
              "        text-align: right;\n",
              "    }\n",
              "</style>\n",
              "<table border=\"1\" class=\"dataframe\">\n",
              "  <thead>\n",
              "    <tr style=\"text-align: right;\">\n",
              "      <th></th>\n",
              "      <th>EmployeeID</th>\n",
              "      <th>Left_Company</th>\n",
              "      <th>Job_History</th>\n",
              "      <th>Joining_Date</th>\n",
              "      <th>Designation</th>\n",
              "      <th>Sex</th>\n",
              "    </tr>\n",
              "  </thead>\n",
              "  <tbody>\n",
              "    <tr>\n",
              "      <th>0</th>\n",
              "      <td>emp-106</td>\n",
              "      <td>NaN</td>\n",
              "      <td>Worked at Company - 510 , Company - 658 , Comp...</td>\n",
              "      <td>2012_01</td>\n",
              "      <td>Senior</td>\n",
              "      <td>0</td>\n",
              "    </tr>\n",
              "    <tr>\n",
              "      <th>1</th>\n",
              "      <td>emp-112</td>\n",
              "      <td>NaN</td>\n",
              "      <td>Worked at Company - 42 , Company - 432 , Compa...</td>\n",
              "      <td>2012_02</td>\n",
              "      <td>VP</td>\n",
              "      <td>1</td>\n",
              "    </tr>\n",
              "    <tr>\n",
              "      <th>2</th>\n",
              "      <td>emp-114</td>\n",
              "      <td>NaN</td>\n",
              "      <td>Worked at Company - 99 , Company - 88 , Compan...</td>\n",
              "      <td>2012_02</td>\n",
              "      <td>EVP</td>\n",
              "      <td>1</td>\n",
              "    </tr>\n",
              "    <tr>\n",
              "      <th>3</th>\n",
              "      <td>emp-118</td>\n",
              "      <td>NaN</td>\n",
              "      <td>Worked at Company - 554 , Company - 304</td>\n",
              "      <td>2012_04</td>\n",
              "      <td>EVP</td>\n",
              "      <td>1</td>\n",
              "    </tr>\n",
              "    <tr>\n",
              "      <th>4</th>\n",
              "      <td>emp-12</td>\n",
              "      <td>NaN</td>\n",
              "      <td>Worked at Company - 548 , Company - 405</td>\n",
              "      <td>2006_09</td>\n",
              "      <td>VP</td>\n",
              "      <td>1</td>\n",
              "    </tr>\n",
              "  </tbody>\n",
              "</table>\n",
              "</div>"
            ],
            "text/plain": [
              "  EmployeeID  Left_Company  ... Designation Sex\n",
              "0    emp-106           NaN  ...      Senior   0\n",
              "1    emp-112           NaN  ...          VP   1\n",
              "2    emp-114           NaN  ...         EVP   1\n",
              "3    emp-118           NaN  ...         EVP   1\n",
              "4     emp-12           NaN  ...          VP   1\n",
              "\n",
              "[5 rows x 6 columns]"
            ]
          },
          "metadata": {
            "tags": []
          },
          "execution_count": 28
        }
      ]
    },
    {
      "cell_type": "code",
      "metadata": {
        "id": "FjrQfxM9-myk",
        "colab_type": "code",
        "colab": {}
      },
      "source": [
        "test_final = pd.merge(test_emp_data,test_work, how='left', on='EmployeeID')"
      ],
      "execution_count": 0,
      "outputs": []
    },
    {
      "cell_type": "code",
      "metadata": {
        "id": "R3BGs6GJ_S5m",
        "colab_type": "code",
        "outputId": "b175e1bc-e440-4700-ac0c-c217f32e0a05",
        "colab": {
          "base_uri": "https://localhost:8080/"
        }
      },
      "source": [
        "test_final.head()"
      ],
      "execution_count": 0,
      "outputs": [
        {
          "output_type": "execute_result",
          "data": {
            "text/html": [
              "<div>\n",
              "<style scoped>\n",
              "    .dataframe tbody tr th:only-of-type {\n",
              "        vertical-align: middle;\n",
              "    }\n",
              "\n",
              "    .dataframe tbody tr th {\n",
              "        vertical-align: top;\n",
              "    }\n",
              "\n",
              "    .dataframe thead th {\n",
              "        text-align: right;\n",
              "    }\n",
              "</style>\n",
              "<table border=\"1\" class=\"dataframe\">\n",
              "  <thead>\n",
              "    <tr style=\"text-align: right;\">\n",
              "      <th></th>\n",
              "      <th>EmployeeID</th>\n",
              "      <th>Left_Company</th>\n",
              "      <th>Job_History</th>\n",
              "      <th>Joining_Date</th>\n",
              "      <th>Designation</th>\n",
              "      <th>Sex</th>\n",
              "      <th>TotalWorkingHours</th>\n",
              "      <th>Billable_Hours</th>\n",
              "      <th>Hours_off_Duty</th>\n",
              "      <th>Touring_Hours</th>\n",
              "      <th>NoOfProjects</th>\n",
              "      <th>ActualTimeSpent</th>\n",
              "    </tr>\n",
              "  </thead>\n",
              "  <tbody>\n",
              "    <tr>\n",
              "      <th>0</th>\n",
              "      <td>emp-106</td>\n",
              "      <td>NaN</td>\n",
              "      <td>Worked at Company - 510 , Company - 658 , Comp...</td>\n",
              "      <td>2012_01</td>\n",
              "      <td>Senior</td>\n",
              "      <td>0</td>\n",
              "      <td>96.0</td>\n",
              "      <td>16.0</td>\n",
              "      <td>40.0</td>\n",
              "      <td>2.0</td>\n",
              "      <td>2</td>\n",
              "      <td>42</td>\n",
              "    </tr>\n",
              "    <tr>\n",
              "      <th>1</th>\n",
              "      <td>emp-106</td>\n",
              "      <td>NaN</td>\n",
              "      <td>Worked at Company - 510 , Company - 658 , Comp...</td>\n",
              "      <td>2012_01</td>\n",
              "      <td>Senior</td>\n",
              "      <td>0</td>\n",
              "      <td>80.0</td>\n",
              "      <td>0.0</td>\n",
              "      <td>8.0</td>\n",
              "      <td>0.0</td>\n",
              "      <td>0</td>\n",
              "      <td>0</td>\n",
              "    </tr>\n",
              "    <tr>\n",
              "      <th>2</th>\n",
              "      <td>emp-106</td>\n",
              "      <td>NaN</td>\n",
              "      <td>Worked at Company - 510 , Company - 658 , Comp...</td>\n",
              "      <td>2012_01</td>\n",
              "      <td>Senior</td>\n",
              "      <td>0</td>\n",
              "      <td>200.0</td>\n",
              "      <td>16.0</td>\n",
              "      <td>0.0</td>\n",
              "      <td>0.0</td>\n",
              "      <td>1</td>\n",
              "      <td>0</td>\n",
              "    </tr>\n",
              "    <tr>\n",
              "      <th>3</th>\n",
              "      <td>emp-106</td>\n",
              "      <td>NaN</td>\n",
              "      <td>Worked at Company - 510 , Company - 658 , Comp...</td>\n",
              "      <td>2012_01</td>\n",
              "      <td>Senior</td>\n",
              "      <td>0</td>\n",
              "      <td>165.0</td>\n",
              "      <td>114.0</td>\n",
              "      <td>40.0</td>\n",
              "      <td>0.0</td>\n",
              "      <td>1</td>\n",
              "      <td>28</td>\n",
              "    </tr>\n",
              "    <tr>\n",
              "      <th>4</th>\n",
              "      <td>emp-106</td>\n",
              "      <td>NaN</td>\n",
              "      <td>Worked at Company - 510 , Company - 658 , Comp...</td>\n",
              "      <td>2012_01</td>\n",
              "      <td>Senior</td>\n",
              "      <td>0</td>\n",
              "      <td>251.0</td>\n",
              "      <td>219.0</td>\n",
              "      <td>8.0</td>\n",
              "      <td>0.0</td>\n",
              "      <td>1</td>\n",
              "      <td>63</td>\n",
              "    </tr>\n",
              "  </tbody>\n",
              "</table>\n",
              "</div>"
            ],
            "text/plain": [
              "  EmployeeID  Left_Company  ... NoOfProjects ActualTimeSpent\n",
              "0    emp-106           NaN  ...            2              42\n",
              "1    emp-106           NaN  ...            0               0\n",
              "2    emp-106           NaN  ...            1               0\n",
              "3    emp-106           NaN  ...            1              28\n",
              "4    emp-106           NaN  ...            1              63\n",
              "\n",
              "[5 rows x 12 columns]"
            ]
          },
          "metadata": {
            "tags": []
          },
          "execution_count": 30
        }
      ]
    },
    {
      "cell_type": "code",
      "metadata": {
        "id": "o1ueB6oW_Xw8",
        "colab_type": "code",
        "colab": {}
      },
      "source": [
        "#using Groupby & agg functin merging the column based on the sample submission data.\n",
        "test = test_final.groupby(by='EmployeeID').agg('max')"
      ],
      "execution_count": 0,
      "outputs": []
    },
    {
      "cell_type": "code",
      "metadata": {
        "id": "ie22m6f5_exL",
        "colab_type": "code",
        "outputId": "558e5c65-6c40-4e65-be5d-862201474f0f",
        "colab": {
          "base_uri": "https://localhost:8080/"
        }
      },
      "source": [
        "test.shape"
      ],
      "execution_count": 0,
      "outputs": [
        {
          "output_type": "execute_result",
          "data": {
            "text/plain": [
              "(51, 11)"
            ]
          },
          "metadata": {
            "tags": []
          },
          "execution_count": 32
        }
      ]
    },
    {
      "cell_type": "markdown",
      "metadata": {
        "id": "ZdZP-tu6sf-S",
        "colab_type": "text"
      },
      "source": [
        ""
      ]
    },
    {
      "cell_type": "code",
      "metadata": {
        "id": "WcmcJdTi_ucv",
        "colab_type": "code",
        "colab": {}
      },
      "source": [
        "#Writing the files into csv for furter use \n",
        "train.to_csv(\"train.csv\", index=True)\n",
        "test.to_csv(\"test.csv\", index=True)"
      ],
      "execution_count": 0,
      "outputs": []
    },
    {
      "cell_type": "code",
      "metadata": {
        "id": "Kkq2CIUes67z",
        "colab_type": "code",
        "colab": {}
      },
      "source": [
        ""
      ],
      "execution_count": 0,
      "outputs": []
    },
    {
      "cell_type": "markdown",
      "metadata": {
        "id": "S3xYmBv1tBpq",
        "colab_type": "text"
      },
      "source": [
        "# Feature Engineering"
      ]
    },
    {
      "cell_type": "code",
      "metadata": {
        "id": "CpnabCaMtuUs",
        "colab_type": "code",
        "colab": {}
      },
      "source": [
        "train_final = pd.read_csv(\"/content/train.csv\")\n",
        "test_final = pd.read_csv(\"/content/test.csv\")"
      ],
      "execution_count": 0,
      "outputs": []
    },
    {
      "cell_type": "code",
      "metadata": {
        "id": "PaZ5QhomtEPN",
        "colab_type": "code",
        "outputId": "f6a5accc-0817-4830-9e7a-5028bef0944c",
        "colab": {
          "base_uri": "https://localhost:8080/",
          "height": 84
        }
      },
      "source": [
        "#Get the list of column in the training data\n",
        "print((train_final.columns))"
      ],
      "execution_count": 0,
      "outputs": [
        {
          "output_type": "stream",
          "text": [
            "Index(['EmployeeID', 'Left_Company', 'Job_History', 'Joining_Date',\n",
            "       'Designation', 'Sex', 'TotalWorkingHours', 'Billable_Hours',\n",
            "       'Hours_off_Duty', 'Touring_Hours', 'NoOfProjects', 'ActualTimeSpent'],\n",
            "      dtype='object')\n"
          ],
          "name": "stdout"
        }
      ]
    },
    {
      "cell_type": "code",
      "metadata": {
        "id": "49f31zs_uCeg",
        "colab_type": "code",
        "outputId": "fbaf8d7f-7205-4809-d1d0-1f9f68f88957",
        "colab": {
          "base_uri": "https://localhost:8080/",
          "height": 84
        }
      },
      "source": [
        "print(test_final.columns)"
      ],
      "execution_count": 0,
      "outputs": [
        {
          "output_type": "stream",
          "text": [
            "Index(['EmployeeID', 'Left_Company', 'Job_History', 'Joining_Date',\n",
            "       'Designation', 'Sex', 'TotalWorkingHours', 'Billable_Hours',\n",
            "       'Hours_off_Duty', 'Touring_Hours', 'NoOfProjects', 'ActualTimeSpent'],\n",
            "      dtype='object')\n"
          ],
          "name": "stdout"
        }
      ]
    },
    {
      "cell_type": "code",
      "metadata": {
        "id": "iwD-9eFitG1i",
        "colab_type": "code",
        "colab": {}
      },
      "source": [
        "#Dropping the unwanted columns in the data\n",
        "train_final.drop(columns=['EmployeeID'], axis=1,inplace=True)\n",
        "test_final.drop(columns=['EmployeeID','Left_Company'], axis=1, inplace=True)"
      ],
      "execution_count": 0,
      "outputs": []
    },
    {
      "cell_type": "code",
      "metadata": {
        "id": "-G5WHHesur3o",
        "colab_type": "code",
        "outputId": "97b23d75-86f9-4746-8dc2-e28bdba9cb5f",
        "colab": {
          "base_uri": "https://localhost:8080/",
          "height": 50
        }
      },
      "source": [
        "print(\"Train data shape : {} \" .format(train_final.shape))\n",
        "print(\"Test data shape: {} \".format(test_final.shape))"
      ],
      "execution_count": 0,
      "outputs": [
        {
          "output_type": "stream",
          "text": [
            "Train data shape : (245, 11) \n",
            "Test data shape: (51, 10) \n"
          ],
          "name": "stdout"
        }
      ]
    },
    {
      "cell_type": "code",
      "metadata": {
        "id": "0NlhIhW-vDEF",
        "colab_type": "code",
        "outputId": "496ca2bf-36ed-4b92-eb4e-09f1ddbe7632",
        "colab": {
          "base_uri": "https://localhost:8080/",
          "height": 518
        }
      },
      "source": [
        "train_final.head()"
      ],
      "execution_count": 0,
      "outputs": [
        {
          "output_type": "execute_result",
          "data": {
            "text/html": [
              "<div>\n",
              "<style scoped>\n",
              "    .dataframe tbody tr th:only-of-type {\n",
              "        vertical-align: middle;\n",
              "    }\n",
              "\n",
              "    .dataframe tbody tr th {\n",
              "        vertical-align: top;\n",
              "    }\n",
              "\n",
              "    .dataframe thead th {\n",
              "        text-align: right;\n",
              "    }\n",
              "</style>\n",
              "<table border=\"1\" class=\"dataframe\">\n",
              "  <thead>\n",
              "    <tr style=\"text-align: right;\">\n",
              "      <th></th>\n",
              "      <th>Left_Company</th>\n",
              "      <th>Job_History</th>\n",
              "      <th>Joining_Date</th>\n",
              "      <th>Designation</th>\n",
              "      <th>Sex</th>\n",
              "      <th>TotalWorkingHours</th>\n",
              "      <th>Billable_Hours</th>\n",
              "      <th>Hours_off_Duty</th>\n",
              "      <th>Touring_Hours</th>\n",
              "      <th>NoOfProjects</th>\n",
              "      <th>ActualTimeSpent</th>\n",
              "    </tr>\n",
              "  </thead>\n",
              "  <tbody>\n",
              "    <tr>\n",
              "      <th>0</th>\n",
              "      <td>0.0</td>\n",
              "      <td>Worked at Company - 639 , Company - 212 , Comp...</td>\n",
              "      <td>2011_01</td>\n",
              "      <td>MD</td>\n",
              "      <td>1</td>\n",
              "      <td>205.0</td>\n",
              "      <td>189.0</td>\n",
              "      <td>72.0</td>\n",
              "      <td>189.0</td>\n",
              "      <td>3</td>\n",
              "      <td>231</td>\n",
              "    </tr>\n",
              "    <tr>\n",
              "      <th>1</th>\n",
              "      <td>1.0</td>\n",
              "      <td>Worked at Company - 816 , Company - 724 , Comp...</td>\n",
              "      <td>2006_02</td>\n",
              "      <td>VP</td>\n",
              "      <td>0</td>\n",
              "      <td>241.0</td>\n",
              "      <td>233.0</td>\n",
              "      <td>120.0</td>\n",
              "      <td>186.0</td>\n",
              "      <td>2</td>\n",
              "      <td>147</td>\n",
              "    </tr>\n",
              "    <tr>\n",
              "      <th>2</th>\n",
              "      <td>0.0</td>\n",
              "      <td>Worked at Company - 562 , Company - 319</td>\n",
              "      <td>2011_12</td>\n",
              "      <td>Senior</td>\n",
              "      <td>1</td>\n",
              "      <td>278.0</td>\n",
              "      <td>264.0</td>\n",
              "      <td>40.0</td>\n",
              "      <td>264.0</td>\n",
              "      <td>3</td>\n",
              "      <td>308</td>\n",
              "    </tr>\n",
              "    <tr>\n",
              "      <th>3</th>\n",
              "      <td>0.0</td>\n",
              "      <td>Worked at Company - 212 , Company - 668 , Comp...</td>\n",
              "      <td>2012_01</td>\n",
              "      <td>Senior</td>\n",
              "      <td>1</td>\n",
              "      <td>345.5</td>\n",
              "      <td>233.5</td>\n",
              "      <td>64.0</td>\n",
              "      <td>0.0</td>\n",
              "      <td>2</td>\n",
              "      <td>217</td>\n",
              "    </tr>\n",
              "    <tr>\n",
              "      <th>4</th>\n",
              "      <td>0.0</td>\n",
              "      <td>Worked at Company - 234</td>\n",
              "      <td>2011_12</td>\n",
              "      <td>Senior</td>\n",
              "      <td>1</td>\n",
              "      <td>270.0</td>\n",
              "      <td>249.0</td>\n",
              "      <td>88.0</td>\n",
              "      <td>213.0</td>\n",
              "      <td>2</td>\n",
              "      <td>231</td>\n",
              "    </tr>\n",
              "  </tbody>\n",
              "</table>\n",
              "</div>"
            ],
            "text/plain": [
              "   Left_Company  ... ActualTimeSpent\n",
              "0           0.0  ...             231\n",
              "1           1.0  ...             147\n",
              "2           0.0  ...             308\n",
              "3           0.0  ...             217\n",
              "4           0.0  ...             231\n",
              "\n",
              "[5 rows x 11 columns]"
            ]
          },
          "metadata": {
            "tags": []
          },
          "execution_count": 39
        }
      ]
    },
    {
      "cell_type": "code",
      "metadata": {
        "id": "uJmibMorvjr3",
        "colab_type": "code",
        "colab": {}
      },
      "source": [
        "# Splitting the Joining_date column into Joining year & Joining month.\n",
        "\n",
        "#convert on training data. \n",
        "train_final[['joining_year','joining_month']] = train_final['Joining_Date'].str.split(\"_\", expand=True)\n",
        "\n",
        "#convert on test data\n",
        "test_final[['joining_year','joining_month']] = test_final['Joining_Date'].str.split(\"_\", expand=True)"
      ],
      "execution_count": 0,
      "outputs": []
    },
    {
      "cell_type": "code",
      "metadata": {
        "id": "bSqZCHwWwAfC",
        "colab_type": "code",
        "outputId": "5b1f5b84-e030-4784-81ed-b21c4e4a1696",
        "colab": {
          "base_uri": "https://localhost:8080/",
          "height": 518
        }
      },
      "source": [
        "#check if it has been converted\n",
        "train_final.head()"
      ],
      "execution_count": 0,
      "outputs": [
        {
          "output_type": "execute_result",
          "data": {
            "text/html": [
              "<div>\n",
              "<style scoped>\n",
              "    .dataframe tbody tr th:only-of-type {\n",
              "        vertical-align: middle;\n",
              "    }\n",
              "\n",
              "    .dataframe tbody tr th {\n",
              "        vertical-align: top;\n",
              "    }\n",
              "\n",
              "    .dataframe thead th {\n",
              "        text-align: right;\n",
              "    }\n",
              "</style>\n",
              "<table border=\"1\" class=\"dataframe\">\n",
              "  <thead>\n",
              "    <tr style=\"text-align: right;\">\n",
              "      <th></th>\n",
              "      <th>Left_Company</th>\n",
              "      <th>Job_History</th>\n",
              "      <th>Joining_Date</th>\n",
              "      <th>Designation</th>\n",
              "      <th>Sex</th>\n",
              "      <th>TotalWorkingHours</th>\n",
              "      <th>Billable_Hours</th>\n",
              "      <th>Hours_off_Duty</th>\n",
              "      <th>Touring_Hours</th>\n",
              "      <th>NoOfProjects</th>\n",
              "      <th>ActualTimeSpent</th>\n",
              "      <th>joining_year</th>\n",
              "      <th>joining_month</th>\n",
              "    </tr>\n",
              "  </thead>\n",
              "  <tbody>\n",
              "    <tr>\n",
              "      <th>0</th>\n",
              "      <td>0.0</td>\n",
              "      <td>Worked at Company - 639 , Company - 212 , Comp...</td>\n",
              "      <td>2011_01</td>\n",
              "      <td>MD</td>\n",
              "      <td>1</td>\n",
              "      <td>205.0</td>\n",
              "      <td>189.0</td>\n",
              "      <td>72.0</td>\n",
              "      <td>189.0</td>\n",
              "      <td>3</td>\n",
              "      <td>231</td>\n",
              "      <td>2011</td>\n",
              "      <td>01</td>\n",
              "    </tr>\n",
              "    <tr>\n",
              "      <th>1</th>\n",
              "      <td>1.0</td>\n",
              "      <td>Worked at Company - 816 , Company - 724 , Comp...</td>\n",
              "      <td>2006_02</td>\n",
              "      <td>VP</td>\n",
              "      <td>0</td>\n",
              "      <td>241.0</td>\n",
              "      <td>233.0</td>\n",
              "      <td>120.0</td>\n",
              "      <td>186.0</td>\n",
              "      <td>2</td>\n",
              "      <td>147</td>\n",
              "      <td>2006</td>\n",
              "      <td>02</td>\n",
              "    </tr>\n",
              "    <tr>\n",
              "      <th>2</th>\n",
              "      <td>0.0</td>\n",
              "      <td>Worked at Company - 562 , Company - 319</td>\n",
              "      <td>2011_12</td>\n",
              "      <td>Senior</td>\n",
              "      <td>1</td>\n",
              "      <td>278.0</td>\n",
              "      <td>264.0</td>\n",
              "      <td>40.0</td>\n",
              "      <td>264.0</td>\n",
              "      <td>3</td>\n",
              "      <td>308</td>\n",
              "      <td>2011</td>\n",
              "      <td>12</td>\n",
              "    </tr>\n",
              "    <tr>\n",
              "      <th>3</th>\n",
              "      <td>0.0</td>\n",
              "      <td>Worked at Company - 212 , Company - 668 , Comp...</td>\n",
              "      <td>2012_01</td>\n",
              "      <td>Senior</td>\n",
              "      <td>1</td>\n",
              "      <td>345.5</td>\n",
              "      <td>233.5</td>\n",
              "      <td>64.0</td>\n",
              "      <td>0.0</td>\n",
              "      <td>2</td>\n",
              "      <td>217</td>\n",
              "      <td>2012</td>\n",
              "      <td>01</td>\n",
              "    </tr>\n",
              "    <tr>\n",
              "      <th>4</th>\n",
              "      <td>0.0</td>\n",
              "      <td>Worked at Company - 234</td>\n",
              "      <td>2011_12</td>\n",
              "      <td>Senior</td>\n",
              "      <td>1</td>\n",
              "      <td>270.0</td>\n",
              "      <td>249.0</td>\n",
              "      <td>88.0</td>\n",
              "      <td>213.0</td>\n",
              "      <td>2</td>\n",
              "      <td>231</td>\n",
              "      <td>2011</td>\n",
              "      <td>12</td>\n",
              "    </tr>\n",
              "  </tbody>\n",
              "</table>\n",
              "</div>"
            ],
            "text/plain": [
              "   Left_Company  ... joining_month\n",
              "0           0.0  ...            01\n",
              "1           1.0  ...            02\n",
              "2           0.0  ...            12\n",
              "3           0.0  ...            01\n",
              "4           0.0  ...            12\n",
              "\n",
              "[5 rows x 13 columns]"
            ]
          },
          "metadata": {
            "tags": []
          },
          "execution_count": 41
        }
      ]
    },
    {
      "cell_type": "code",
      "metadata": {
        "id": "xxsA1B7Xsusm",
        "colab_type": "code",
        "colab": {}
      },
      "source": [
        "train_final['job_count'] = train_final['Job_History'].str.split(',').str.len()\n",
        "\n",
        "test_final['job_count'] = test_final['Job_History'].str.split(',').str.len()"
      ],
      "execution_count": 0,
      "outputs": []
    },
    {
      "cell_type": "code",
      "metadata": {
        "id": "vtXAUQcb4ihD",
        "colab_type": "code",
        "colab": {}
      },
      "source": [
        "#drop the Joining date column in train & test data\n",
        "\n",
        "train_final.drop(columns=['Joining_Date'], axis=1, inplace=True)\n",
        "\n",
        "\n",
        "test_final.drop(columns=['Joining_Date'], axis=1, inplace=True)"
      ],
      "execution_count": 0,
      "outputs": []
    },
    {
      "cell_type": "code",
      "metadata": {
        "id": "yDwXgp9I4ibH",
        "colab_type": "code",
        "outputId": "871c62b6-25f6-436c-b4c5-8096172c5efb",
        "colab": {
          "base_uri": "https://localhost:8080/",
          "height": 252
        }
      },
      "source": [
        "train_final.dtypes #check the data type of train data "
      ],
      "execution_count": 0,
      "outputs": [
        {
          "output_type": "execute_result",
          "data": {
            "text/plain": [
              "Left_Company         float64\n",
              "Job_History           object\n",
              "Designation           object\n",
              "Sex                    int64\n",
              "TotalWorkingHours    float64\n",
              "Billable_Hours       float64\n",
              "Hours_off_Duty       float64\n",
              "Touring_Hours        float64\n",
              "NoOfProjects           int64\n",
              "ActualTimeSpent        int64\n",
              "joining_year          object\n",
              "joining_month         object\n",
              "job_count              int64\n",
              "dtype: object"
            ]
          },
          "metadata": {
            "tags": []
          },
          "execution_count": 44
        }
      ]
    },
    {
      "cell_type": "code",
      "metadata": {
        "id": "4G4b97_R5oKO",
        "colab_type": "code",
        "outputId": "338335d2-ed2a-4cd9-8df3-eeb68f8afb88",
        "colab": {
          "base_uri": "https://localhost:8080/",
          "height": 235
        }
      },
      "source": [
        "test_final.dtypes #check the data types of the test data."
      ],
      "execution_count": 0,
      "outputs": [
        {
          "output_type": "execute_result",
          "data": {
            "text/plain": [
              "Job_History           object\n",
              "Designation           object\n",
              "Sex                    int64\n",
              "TotalWorkingHours    float64\n",
              "Billable_Hours       float64\n",
              "Hours_off_Duty       float64\n",
              "Touring_Hours        float64\n",
              "NoOfProjects           int64\n",
              "ActualTimeSpent        int64\n",
              "joining_year          object\n",
              "joining_month         object\n",
              "job_count              int64\n",
              "dtype: object"
            ]
          },
          "metadata": {
            "tags": []
          },
          "execution_count": 45
        }
      ]
    },
    {
      "cell_type": "code",
      "metadata": {
        "id": "lxcgEjHzUvh0",
        "colab_type": "code",
        "colab": {}
      },
      "source": [
        "#creating a copy for using with label encoding\n",
        "\n",
        "train_copy = train_final.copy()\n",
        "test_copy = test_final.copy()"
      ],
      "execution_count": 0,
      "outputs": []
    },
    {
      "cell_type": "code",
      "metadata": {
        "id": "4YsYS-YE4iZw",
        "colab_type": "code",
        "colab": {}
      },
      "source": [
        "#convert floats into int\n",
        "\n",
        "for col in ['TotalWorkingHours','Billable_Hours','Hours_off_Duty','Touring_Hours']:\n",
        "  train_final[col] = train_final[col].astype('int')"
      ],
      "execution_count": 0,
      "outputs": []
    },
    {
      "cell_type": "code",
      "metadata": {
        "id": "uSIjIzmm4iW6",
        "colab_type": "code",
        "colab": {}
      },
      "source": [
        "#Do the same on the test data \n",
        "for col in ['TotalWorkingHours','Billable_Hours','Hours_off_Duty','Touring_Hours']:\n",
        "  test_final[col] = test_final[col].astype('int')"
      ],
      "execution_count": 0,
      "outputs": []
    },
    {
      "cell_type": "code",
      "metadata": {
        "id": "feUvrkC04iUr",
        "colab_type": "code",
        "colab": {}
      },
      "source": [
        "#creating the list of numeric attributes"
      ],
      "execution_count": 0,
      "outputs": []
    },
    {
      "cell_type": "markdown",
      "metadata": {
        "id": "XAq0ScfztqQG",
        "colab_type": "text"
      },
      "source": [
        "### Converting objects to categories "
      ]
    },
    {
      "cell_type": "code",
      "metadata": {
        "id": "VU8bidfShjK5",
        "colab_type": "code",
        "colab": {}
      },
      "source": [
        "#on training data\n",
        "\n",
        "for col in ['Sex','Designation','NoOfProjects','joining_year','joining_month','Job_History']:\n",
        "  train_final[col] = train_final[col].astype('category')\n",
        "#on testing data \n",
        "\n",
        "for col in ['Sex','Designation','NoOfProjects','joining_year','joining_month','Job_History']:\n",
        "  test_final[col] = test_final[col].astype('category')\n",
        "\n",
        "train_final['Left_Company'] = train_final['Left_Company'].astype('category')"
      ],
      "execution_count": 0,
      "outputs": []
    },
    {
      "cell_type": "code",
      "metadata": {
        "id": "J29wEmb_jVgn",
        "colab_type": "code",
        "colab": {}
      },
      "source": [
        "#creating a list of categorical & numerical attributes\n",
        "\n",
        "cat_attr = list(train_final.select_dtypes(\"category\").columns) #exclude target column inthe list\n",
        "num_attr = list(test_final.columns.difference(cat_attr))\n",
        "\n",
        "# cat_attr.pop()"
      ],
      "execution_count": 0,
      "outputs": []
    },
    {
      "cell_type": "code",
      "metadata": {
        "id": "dEV5jmIt7WRC",
        "colab_type": "code",
        "colab": {}
      },
      "source": [
        "cat_attr.remove('Left_Company')"
      ],
      "execution_count": 0,
      "outputs": []
    },
    {
      "cell_type": "code",
      "metadata": {
        "id": "TcsfI3YO75rK",
        "colab_type": "code",
        "outputId": "1ac2bf49-09be-48e3-86fe-d9829a4c4374",
        "colab": {
          "base_uri": "https://localhost:8080/",
          "height": 118
        }
      },
      "source": [
        "cat_attr"
      ],
      "execution_count": 0,
      "outputs": [
        {
          "output_type": "execute_result",
          "data": {
            "text/plain": [
              "['Job_History',\n",
              " 'Designation',\n",
              " 'Sex',\n",
              " 'NoOfProjects',\n",
              " 'joining_year',\n",
              " 'joining_month']"
            ]
          },
          "metadata": {
            "tags": []
          },
          "execution_count": 53
        }
      ]
    },
    {
      "cell_type": "code",
      "metadata": {
        "id": "0_i7l9IE7WNz",
        "colab_type": "code",
        "outputId": "4d02797a-f327-472b-976f-51fb054c8249",
        "colab": {
          "base_uri": "https://localhost:8080/",
          "height": 118
        }
      },
      "source": [
        "num_attr"
      ],
      "execution_count": 0,
      "outputs": [
        {
          "output_type": "execute_result",
          "data": {
            "text/plain": [
              "['ActualTimeSpent',\n",
              " 'Billable_Hours',\n",
              " 'Hours_off_Duty',\n",
              " 'TotalWorkingHours',\n",
              " 'Touring_Hours',\n",
              " 'job_count']"
            ]
          },
          "metadata": {
            "tags": []
          },
          "execution_count": 54
        }
      ]
    },
    {
      "cell_type": "markdown",
      "metadata": {
        "id": "j5tPmDb8tiS_",
        "colab_type": "text"
      },
      "source": [
        "### Columns with missing values"
      ]
    },
    {
      "cell_type": "code",
      "metadata": {
        "id": "4hPi5WmljVdb",
        "colab_type": "code",
        "outputId": "142af414-7911-4605-ff76-4973f3ef460c",
        "colab": {
          "base_uri": "https://localhost:8080/",
          "height": 50
        }
      },
      "source": [
        "# Missing values in train data  & test data\n",
        "missing_cols_train = train_final.columns[train_final.isnull().any()]\n",
        "print(missing_cols_train)\n",
        "\n",
        "missing_cols_test = test_final.columns[test_final.isnull().any()]\n",
        "print(missing_cols_test)"
      ],
      "execution_count": 0,
      "outputs": [
        {
          "output_type": "stream",
          "text": [
            "Index([], dtype='object')\n",
            "Index([], dtype='object')\n"
          ],
          "name": "stdout"
        }
      ]
    },
    {
      "cell_type": "markdown",
      "metadata": {
        "id": "ufbnnrritxWe",
        "colab_type": "text"
      },
      "source": [
        "### Importing the Required packages"
      ]
    },
    {
      "cell_type": "code",
      "metadata": {
        "id": "vR1HY3pujVaz",
        "colab_type": "code",
        "outputId": "62a6cc15-bc8f-4f90-d735-5d1e14de5104",
        "colab": {
          "base_uri": "https://localhost:8080/",
          "height": 70
        }
      },
      "source": [
        "from sklearn import preprocessing\n",
        "from sklearn.impute import SimpleImputer\n",
        "\n",
        "from sklearn.compose import ColumnTransformer\n",
        "\n",
        "from sklearn.preprocessing import StandardScaler\n",
        "from sklearn.preprocessing import OneHotEncoder\n",
        "from sklearn.model_selection import train_test_split\n",
        "from sklearn.pipeline import Pipeline\n",
        "from sklearn.model_selection import GridSearchCV, cross_val_score, StratifiedKFold\n",
        "\n",
        "from sklearn.tree import DecisionTreeClassifier\n",
        "from sklearn.ensemble import RandomForestClassifier\n",
        "from sklearn.svm import SVC\n",
        "from sklearn.linear_model import LogisticRegression\n",
        "\n",
        "from sklearn.ensemble import GradientBoostingClassifier\n",
        "from sklearn.ensemble import AdaBoostClassifier\n",
        "from sklearn.metrics import confusion_matrix\n",
        "\n",
        "import matplotlib.pyplot as plt\n",
        "import seaborn as sns\n",
        "from imblearn.over_sampling import SMOTE\n",
        "from sklearn.metrics import accuracy_score, recall_score, precision_score, f1_score\n",
        "\n",
        "\n",
        "import warnings\n",
        "warnings.filterwarnings('ignore')"
      ],
      "execution_count": 0,
      "outputs": [
        {
          "output_type": "stream",
          "text": [
            "/usr/local/lib/python3.6/dist-packages/sklearn/externals/six.py:31: DeprecationWarning: The module is deprecated in version 0.21 and will be removed in version 0.23 since we've dropped support for Python 2.7. Please rely on the official version of six (https://pypi.org/project/six/).\n",
            "  \"(https://pypi.org/project/six/).\", DeprecationWarning)\n"
          ],
          "name": "stderr"
        }
      ]
    },
    {
      "cell_type": "markdown",
      "metadata": {
        "id": "ctJKvIicIO3h",
        "colab_type": "text"
      },
      "source": [
        "## Dummification"
      ]
    },
    {
      "cell_type": "code",
      "metadata": {
        "id": "1FCmp01RIjOK",
        "colab_type": "code",
        "colab": {}
      },
      "source": [
        "y= train_final['Left_Company']\n",
        "\n",
        "del train_final['Left_Company']\n",
        "X = train_final"
      ],
      "execution_count": 0,
      "outputs": []
    },
    {
      "cell_type": "markdown",
      "metadata": {
        "id": "Y48OxXFzIOuE",
        "colab_type": "text"
      },
      "source": [
        ""
      ]
    },
    {
      "cell_type": "code",
      "metadata": {
        "id": "WFYurEK5Gwcp",
        "colab_type": "code",
        "colab": {}
      },
      "source": [
        "\n",
        "#One hot encoding on the train data\n",
        "\n",
        "dummy_train = pd.get_dummies(data= X, columns= cat_attr, drop_first=True)"
      ],
      "execution_count": 0,
      "outputs": []
    },
    {
      "cell_type": "code",
      "metadata": {
        "id": "HyYzhXFNGwZX",
        "colab_type": "code",
        "outputId": "1cf2ed64-7a78-4dab-d634-58abfd232747",
        "colab": {
          "base_uri": "https://localhost:8080/",
          "height": 34
        }
      },
      "source": [
        "dummy_train.shape"
      ],
      "execution_count": 0,
      "outputs": [
        {
          "output_type": "execute_result",
          "data": {
            "text/plain": [
              "(245, 283)"
            ]
          },
          "metadata": {
            "tags": []
          },
          "execution_count": 59
        }
      ]
    },
    {
      "cell_type": "code",
      "metadata": {
        "id": "_XIz-daAGwWK",
        "colab_type": "code",
        "colab": {}
      },
      "source": [
        "#One hot encoding on the test data\n",
        "\n",
        "test_final = pd.get_dummies(data= test_final, columns= cat_attr, drop_first=True)"
      ],
      "execution_count": 0,
      "outputs": []
    },
    {
      "cell_type": "code",
      "metadata": {
        "id": "NvsWJEhpJGmf",
        "colab_type": "code",
        "outputId": "f523e55b-6aba-4dd3-93df-162f70a16e7f",
        "colab": {
          "base_uri": "https://localhost:8080/",
          "height": 34
        }
      },
      "source": [
        "print(test_final.shape)"
      ],
      "execution_count": 0,
      "outputs": [
        {
          "output_type": "stream",
          "text": [
            "(51, 86)\n"
          ],
          "name": "stdout"
        }
      ]
    },
    {
      "cell_type": "code",
      "metadata": {
        "id": "sG1WbpF5JSIa",
        "colab_type": "code",
        "colab": {}
      },
      "source": [
        "# Align the columns in the test data with train data \n",
        "\n",
        "dummy_train, test_final = dummy_train.align(test_final, join='left', axis=1)"
      ],
      "execution_count": 0,
      "outputs": []
    },
    {
      "cell_type": "code",
      "metadata": {
        "id": "OYBH83q9JjuM",
        "colab_type": "code",
        "outputId": "3b11cecd-7a54-49cb-a596-1818f475ddbd",
        "colab": {
          "base_uri": "https://localhost:8080/",
          "height": 34
        }
      },
      "source": [
        "#check the missing values in the test\n",
        "print(test_final.isnull().sum().sum())\n",
        "\n",
        "test_final.fillna(value=0, inplace=True)"
      ],
      "execution_count": 0,
      "outputs": [
        {
          "output_type": "stream",
          "text": [
            "12597\n"
          ],
          "name": "stdout"
        }
      ]
    },
    {
      "cell_type": "code",
      "metadata": {
        "id": "HMuYnvrOGwUL",
        "colab_type": "code",
        "colab": {}
      },
      "source": [
        "#standardize the train dat a& test data\n",
        "\n",
        "std = StandardScaler() #Instantiating an object. \n",
        "std.fit(dummy_train) #Fittin gon th train data\n",
        "\n",
        "std_x = std.transform(dummy_train) #transform on th etrain data\n",
        "std_test = std.transform(test_final) #transform on the test data"
      ],
      "execution_count": 0,
      "outputs": []
    },
    {
      "cell_type": "code",
      "metadata": {
        "id": "R7aFXbINKc_R",
        "colab_type": "code",
        "outputId": "677ab9d7-21e5-4ca6-d309-490d0581b65c",
        "colab": {
          "base_uri": "https://localhost:8080/",
          "height": 50
        }
      },
      "source": [
        "print(std_x.shape)\n",
        "print(std_test.shape)"
      ],
      "execution_count": 0,
      "outputs": [
        {
          "output_type": "stream",
          "text": [
            "(245, 283)\n",
            "(51, 283)\n"
          ],
          "name": "stdout"
        }
      ]
    },
    {
      "cell_type": "code",
      "metadata": {
        "id": "tneVrkenPGH5",
        "colab_type": "code",
        "colab": {}
      },
      "source": [
        ""
      ],
      "execution_count": 0,
      "outputs": []
    },
    {
      "cell_type": "markdown",
      "metadata": {
        "id": "kNkXbG48KiYj",
        "colab_type": "text"
      },
      "source": [
        "# Models On complete std data without splitting : \n",
        " "
      ]
    },
    {
      "cell_type": "markdown",
      "metadata": {
        "id": "MhugaAZrKmHN",
        "colab_type": "text"
      },
      "source": [
        "## Model-1 -Logistic Regression : \n"
      ]
    },
    {
      "cell_type": "code",
      "metadata": {
        "id": "9fHfSuhOKczF",
        "colab_type": "code",
        "outputId": "90d7d661-cf04-41bd-f9e3-bc27a47e8b79",
        "colab": {
          "base_uri": "https://localhost:8080/",
          "height": 101
        }
      },
      "source": [
        "log_reg = LogisticRegression(class_weight='balanced')\n",
        "\n",
        "log_reg.fit(std_x, y)\n"
      ],
      "execution_count": 0,
      "outputs": [
        {
          "output_type": "execute_result",
          "data": {
            "text/plain": [
              "LogisticRegression(C=1.0, class_weight='balanced', dual=False,\n",
              "                   fit_intercept=True, intercept_scaling=1, l1_ratio=None,\n",
              "                   max_iter=100, multi_class='warn', n_jobs=None, penalty='l2',\n",
              "                   random_state=None, solver='warn', tol=0.0001, verbose=0,\n",
              "                   warm_start=False)"
            ]
          },
          "metadata": {
            "tags": []
          },
          "execution_count": 66
        }
      ]
    },
    {
      "cell_type": "code",
      "metadata": {
        "id": "Xnyv5Tv4LGd0",
        "colab_type": "code",
        "outputId": "965ac3d8-c7fc-48f6-bb54-e0c38e4d52a3",
        "colab": {
          "base_uri": "https://localhost:8080/",
          "height": 34
        }
      },
      "source": [
        "log_pred = log_reg.predict(std_x)\n",
        "\n",
        "print(f1_score(y, log_pred))"
      ],
      "execution_count": 0,
      "outputs": [
        {
          "output_type": "stream",
          "text": [
            "1.0\n"
          ],
          "name": "stdout"
        }
      ]
    },
    {
      "cell_type": "markdown",
      "metadata": {
        "id": "3bggOH1CMsZy",
        "colab_type": "text"
      },
      "source": [
        "##  Model- 2 - Decision tree :"
      ]
    },
    {
      "cell_type": "code",
      "metadata": {
        "id": "clvr5584Mr2x",
        "colab_type": "code",
        "outputId": "086be439-f31d-4a85-fce1-475003a4838c",
        "colab": {
          "base_uri": "https://localhost:8080/",
          "height": 84
        }
      },
      "source": [
        "%%time\n",
        "clf_dt =  DecisionTreeClassifier()\n",
        "\n",
        "dt_param_grid = {'criterion': ['entropy', 'gini'], \n",
        "                 'max_depth': [3,4,5],\n",
        "                 \"min_samples_split\": [2,5],\n",
        "                 \"min_samples_leaf\": [1,3,5]}\n",
        "\n",
        "dt_grid = GridSearchCV(clf_dt, param_grid=dt_param_grid, n_jobs=-1, cv=10,return_train_score=True)\n",
        "\n",
        "dt_grid.fit(std_x,y)\n",
        "\n",
        "print(dt_grid.best_params_)\n",
        "\n",
        "dt_pred = dt_grid.predict(std_x)\n",
        "\n",
        "print(f1_score(y, dt_pred))"
      ],
      "execution_count": 0,
      "outputs": [
        {
          "output_type": "stream",
          "text": [
            "{'criterion': 'entropy', 'max_depth': 5, 'min_samples_leaf': 3, 'min_samples_split': 2}\n",
            "0.851063829787234\n",
            "CPU times: user 260 ms, sys: 29.5 ms, total: 290 ms\n",
            "Wall time: 2.73 s\n"
          ],
          "name": "stdout"
        }
      ]
    },
    {
      "cell_type": "markdown",
      "metadata": {
        "id": "gMxIluJH8oZb",
        "colab_type": "text"
      },
      "source": [
        "## Model-3 --Build Gradient Boosting "
      ]
    },
    {
      "cell_type": "code",
      "metadata": {
        "id": "gsdUCtEcH23G",
        "colab_type": "code",
        "outputId": "45b9ae34-392e-482e-a7b7-fc2cb91cdf0d",
        "colab": {
          "base_uri": "https://localhost:8080/",
          "height": 84
        }
      },
      "source": [
        "\n",
        "%%time\n",
        "clf_gbc = GradientBoostingClassifier()\n",
        "\n",
        "gbm_param_grid = {'max_depth': [2,3,4],\n",
        "                  'subsample': [0.8,0.6],\n",
        "                  'max_features':[0.3], \n",
        "                  'n_estimators': [10, 20, 30],\n",
        "                  'learning_rate':[0.1]}\n",
        "\n",
        "gbm_grid = GridSearchCV(clf_gbc, param_grid=gbm_param_grid, n_jobs =-1, cv=5)\n",
        "\n",
        "gbm_grid.fit(std_x,y)\n",
        "\n",
        "print(\"The Best parameters are: {} .\".format(gbm_grid.best_params_))\n",
        "\n",
        "train_pred_gb = gbm_grid.predict(std_x)\n",
        "\n",
        "print(f1_score(y, train_pred_gb))\n",
        "\n"
      ],
      "execution_count": 0,
      "outputs": [
        {
          "output_type": "stream",
          "text": [
            "The Best parameters are: {'learning_rate': 0.1, 'max_depth': 2, 'max_features': 0.3, 'n_estimators': 20, 'subsample': 0.8} .\n",
            "0.851063829787234\n",
            "CPU times: user 107 ms, sys: 1.98 ms, total: 109 ms\n",
            "Wall time: 1.13 s\n"
          ],
          "name": "stdout"
        }
      ]
    },
    {
      "cell_type": "markdown",
      "metadata": {
        "id": "PpoJC55p27hG",
        "colab_type": "text"
      },
      "source": [
        "# Building model after outholding the dataset."
      ]
    },
    {
      "cell_type": "code",
      "metadata": {
        "id": "IgYWo5YD26wt",
        "colab_type": "code",
        "colab": {}
      },
      "source": [
        "x_train, x_test, y_train, y_test = train_test_split(std_x, y, test_size=0.3, random_state=11, stratify=y)\n"
      ],
      "execution_count": 0,
      "outputs": []
    },
    {
      "cell_type": "code",
      "metadata": {
        "id": "5zu1N2-yOTLF",
        "colab_type": "code",
        "colab": {}
      },
      "source": [
        ""
      ],
      "execution_count": 0,
      "outputs": []
    },
    {
      "cell_type": "code",
      "metadata": {
        "id": "TVTZI94x56hc",
        "colab_type": "code",
        "colab": {}
      },
      "source": [
        "sm = SMOTE(random_state=2)\n",
        "\n",
        "x_train_re, y_train_re = sm.fit_sample(x_train, y_train.ravel())\n",
        "x_test_re, y_test_re = sm.fit_sample(x_test,y_test.ravel())\n"
      ],
      "execution_count": 0,
      "outputs": []
    },
    {
      "cell_type": "code",
      "metadata": {
        "id": "fOi7Ij6c_0gC",
        "colab_type": "code",
        "outputId": "25667eab-38dc-4d21-f0fe-3a9aa0110fe1",
        "colab": {
          "base_uri": "https://localhost:8080/",
          "height": 84
        }
      },
      "source": [
        "print(x_train_re.shape)\n",
        "print(x_test_re.shape)\n",
        "print(y_train_re.shape)\n",
        "print(y_test_re.shape)\n"
      ],
      "execution_count": 0,
      "outputs": [
        {
          "output_type": "stream",
          "text": [
            "(304, 283)\n",
            "(132, 283)\n",
            "(304,)\n",
            "(132,)\n"
          ],
          "name": "stdout"
        }
      ]
    },
    {
      "cell_type": "markdown",
      "metadata": {
        "id": "Az_BMTEM3DO7",
        "colab_type": "text"
      },
      "source": [
        "## Model-1 Gradient Boosting : "
      ]
    },
    {
      "cell_type": "code",
      "metadata": {
        "id": "x3mVTp-ZfRi-",
        "colab_type": "code",
        "outputId": "9314013c-8721-4be0-eabe-bc5186bb0ca6",
        "colab": {
          "base_uri": "https://localhost:8080/",
          "height": 101
        }
      },
      "source": [
        "\n",
        "%%time\n",
        "clf_gbc = GradientBoostingClassifier()\n",
        "\n",
        "gbm_param_grid = {'max_depth': [2,3,4],\n",
        "                  'subsample': [0.8,0.6],\n",
        "                  'max_features':[0.3, 0.4], \n",
        "                  'n_estimators': [5,10],\n",
        "                  'learning_rate':[0.1, 0.01, 0.001]} #making learning rate \n",
        "\n",
        "gbm_grid_1 = GridSearchCV(clf_gbc, param_grid=gbm_param_grid, n_jobs =-1, cv=5)\n",
        "\n",
        "gbm_grid_1.fit(x_train_re,y_train_re)\n",
        "\n",
        "print(\"The Best parameters are: {} .\".format(gbm_grid_1.best_params_))\n",
        "\n",
        "train_pred_gb_2 = gbm_grid_1.predict(x_train_re)\n",
        "test_pred_gb_2 = gbm_grid_1.predict(x_test_re)\n",
        "print(f1_score(y_train_re, train_pred_gb_2)*100)\n",
        "print(f1_score(y_test_re, test_pred_gb_2)*100)\n",
        "\n"
      ],
      "execution_count": 0,
      "outputs": [
        {
          "output_type": "stream",
          "text": [
            "The Best parameters are: {'learning_rate': 0.1, 'max_depth': 4, 'max_features': 0.3, 'n_estimators': 10, 'subsample': 0.8} .\n",
            "99.66996699669967\n",
            "96.06299212598425\n",
            "CPU times: user 282 ms, sys: 11.6 ms, total: 294 ms\n",
            "Wall time: 2.27 s\n"
          ],
          "name": "stdout"
        }
      ]
    },
    {
      "cell_type": "markdown",
      "metadata": {
        "id": "q5I3TTLyP22X",
        "colab_type": "text"
      },
      "source": [
        "## Model-2  Logit Model :  \n"
      ]
    },
    {
      "cell_type": "code",
      "metadata": {
        "id": "JsIhUoqmFTRY",
        "colab_type": "code",
        "outputId": "626afb1b-28b8-425a-a900-3b69d2e8e434",
        "colab": {
          "base_uri": "https://localhost:8080/",
          "height": 50
        }
      },
      "source": [
        "log_reg_2 = LogisticRegression(class_weight='balanced')\n",
        "\n",
        "log_reg_2.fit(x_train_re,y_train_re)\n",
        "\n",
        "log_reg_pred_train = log_reg_2.predict(x_train_re)\n",
        "log_reg_pred_test = log_reg_2.predict(x_test_re)\n",
        "\n",
        "print(f1_score(y_train_re, log_reg_pred_train))\n",
        "print(f1_score(y_test_re, log_reg_pred_test))\n",
        "\n",
        "#prediction on test data \n",
        "\n"
      ],
      "execution_count": 0,
      "outputs": [
        {
          "output_type": "stream",
          "text": [
            "1.0\n",
            "0.8148148148148148\n"
          ],
          "name": "stdout"
        }
      ]
    },
    {
      "cell_type": "markdown",
      "metadata": {
        "id": "ZBB5DUqNQ_Lj",
        "colab_type": "text"
      },
      "source": [
        "## Model-3 xgBoost : "
      ]
    },
    {
      "cell_type": "code",
      "metadata": {
        "id": "FHAP24B2RQTG",
        "colab_type": "code",
        "outputId": "8c3ce30b-e028-4332-ee58-ddd690ab9c18",
        "colab": {
          "base_uri": "https://localhost:8080/",
          "height": 101
        }
      },
      "source": [
        "\n",
        "%%time\n",
        "import xgboost as xgb\n",
        "from sklearn.model_selection import GridSearchCV\n",
        "xgb = xgb.XGBClassifier()\n",
        "\n",
        "\n",
        "kfold = StratifiedKFold(n_splits=5, shuffle=True, random_state=143)\n",
        "\n",
        "param_grid = {\"n_estimators\" : [10,15],\n",
        "              \"max_depth\" : [3,5,6,7],\n",
        "              \"colsample_bytree\":[0.7,.8],\n",
        "              \"learning_rate\": [0.001,0.01,0.1],\n",
        "              \"subsample\":[0.8,0.6]}\n",
        "\n",
        "xg_grid = GridSearchCV(xgb, param_grid=param_grid, n_jobs=-1, cv=kfold)\n",
        "\n",
        "\n",
        "xg_grid.fit(x_train_re,y_train_re)\n",
        "\n",
        "print(xg_grid.best_params_)\n",
        "\n",
        "train_pred = xg_grid.predict(x_train_re)\n",
        "test_pred = xg_grid.predict(x_test_re)\n",
        "\n",
        "print(\"Train Score: {}.\" .format(f1_score(y_train_re, train_pred)))\n",
        "print(\"Validation Score: {}.\" .format(f1_score(y_test_re, test_pred)))\n"
      ],
      "execution_count": 0,
      "outputs": [
        {
          "output_type": "stream",
          "text": [
            "{'colsample_bytree': 0.7, 'learning_rate': 0.1, 'max_depth': 7, 'n_estimators': 15, 'subsample': 0.8}\n",
            "Train Score: 0.9933774834437086.\n",
            "Validation Score: 0.9606299212598425.\n",
            "CPU times: user 469 ms, sys: 16 ms, total: 486 ms\n",
            "Wall time: 9.31 s\n"
          ],
          "name": "stdout"
        }
      ]
    },
    {
      "cell_type": "markdown",
      "metadata": {
        "id": "vCVGIEJXSLnD",
        "colab_type": "text"
      },
      "source": [
        "# Models using Label Encoding."
      ]
    },
    {
      "cell_type": "code",
      "metadata": {
        "colab_type": "code",
        "id": "Dt6-3iMZVr3h",
        "colab": {}
      },
      "source": [
        "#convert floats into int\n",
        "\n",
        "for col in ['TotalWorkingHours','Billable_Hours','Hours_off_Duty','Touring_Hours']:\n",
        "  train_copy[col] = train_copy[col].astype('int')"
      ],
      "execution_count": 0,
      "outputs": []
    },
    {
      "cell_type": "code",
      "metadata": {
        "colab_type": "code",
        "id": "fuwPRTrLVr3k",
        "colab": {}
      },
      "source": [
        "#Do the same on the test data \n",
        "for col in ['TotalWorkingHours','Billable_Hours','Hours_off_Duty','Touring_Hours']:\n",
        "  test_copy[col] = test_copy[col].astype('int')"
      ],
      "execution_count": 0,
      "outputs": []
    },
    {
      "cell_type": "code",
      "metadata": {
        "colab_type": "code",
        "id": "I5AHUnacVr3m",
        "colab": {}
      },
      "source": [
        "#creating the list of numeric attributes"
      ],
      "execution_count": 0,
      "outputs": []
    },
    {
      "cell_type": "markdown",
      "metadata": {
        "colab_type": "text",
        "id": "yZPkq7lDVr3n"
      },
      "source": [
        "### Converting objects to categories "
      ]
    },
    {
      "cell_type": "code",
      "metadata": {
        "colab_type": "code",
        "id": "L_SNKlYlVr3o",
        "colab": {}
      },
      "source": [
        "#on training data\n",
        "\n",
        "for col in ['Sex','Designation','NoOfProjects','joining_year','joining_month']:\n",
        "  train_copy[col] = train_copy[col].astype('object')\n",
        "#on testing data \n",
        "\n",
        "for col in ['Sex','Designation','NoOfProjects','joining_year','joining_month']:\n",
        "  test_copy[col] = test_copy[col].astype('object')\n",
        "\n",
        "train_copy['Left_Company'] = train_copy['Left_Company'].astype('category')"
      ],
      "execution_count": 0,
      "outputs": []
    },
    {
      "cell_type": "code",
      "metadata": {
        "id": "bUegvvA-Y45c",
        "colab_type": "code",
        "colab": {}
      },
      "source": [
        "del train_copy['Left_Company']"
      ],
      "execution_count": 0,
      "outputs": []
    },
    {
      "cell_type": "markdown",
      "metadata": {
        "colab_type": "text",
        "id": "WfbNEJF-Vr3v"
      },
      "source": [
        "### Encoding the data using Label encoder"
      ]
    },
    {
      "cell_type": "code",
      "metadata": {
        "id": "2TjJzQ0uTc8F",
        "colab_type": "code",
        "colab": {}
      },
      "source": [
        "#pass the label encoded data to the random forest Model\n",
        "\n",
        "for x in train_copy.columns:\n",
        "  if train_copy[x].dtype == 'object':\n",
        "        lbl = preprocessing.LabelEncoder()\n",
        "        lbl.fit(list(train_copy[x].values))\n",
        "        train_copy[x] = lbl.transform(list(train_copy[x].values))\n",
        "        "
      ],
      "execution_count": 0,
      "outputs": []
    },
    {
      "cell_type": "code",
      "metadata": {
        "id": "DWASkyozYOCo",
        "colab_type": "code",
        "outputId": "417c45b8-7578-4750-ebd8-35332f88dabc",
        "colab": {
          "base_uri": "https://localhost:8080/",
          "height": 215
        }
      },
      "source": [
        "train_copy.head()"
      ],
      "execution_count": 0,
      "outputs": [
        {
          "output_type": "execute_result",
          "data": {
            "text/html": [
              "<div>\n",
              "<style scoped>\n",
              "    .dataframe tbody tr th:only-of-type {\n",
              "        vertical-align: middle;\n",
              "    }\n",
              "\n",
              "    .dataframe tbody tr th {\n",
              "        vertical-align: top;\n",
              "    }\n",
              "\n",
              "    .dataframe thead th {\n",
              "        text-align: right;\n",
              "    }\n",
              "</style>\n",
              "<table border=\"1\" class=\"dataframe\">\n",
              "  <thead>\n",
              "    <tr style=\"text-align: right;\">\n",
              "      <th></th>\n",
              "      <th>Job_History</th>\n",
              "      <th>Designation</th>\n",
              "      <th>Sex</th>\n",
              "      <th>TotalWorkingHours</th>\n",
              "      <th>Billable_Hours</th>\n",
              "      <th>Hours_off_Duty</th>\n",
              "      <th>Touring_Hours</th>\n",
              "      <th>NoOfProjects</th>\n",
              "      <th>ActualTimeSpent</th>\n",
              "      <th>joining_year</th>\n",
              "      <th>joining_month</th>\n",
              "      <th>job_count</th>\n",
              "    </tr>\n",
              "  </thead>\n",
              "  <tbody>\n",
              "    <tr>\n",
              "      <th>0</th>\n",
              "      <td>156</td>\n",
              "      <td>2</td>\n",
              "      <td>1</td>\n",
              "      <td>205</td>\n",
              "      <td>189</td>\n",
              "      <td>72</td>\n",
              "      <td>189</td>\n",
              "      <td>3</td>\n",
              "      <td>231</td>\n",
              "      <td>8</td>\n",
              "      <td>0</td>\n",
              "      <td>3</td>\n",
              "    </tr>\n",
              "    <tr>\n",
              "      <th>1</th>\n",
              "      <td>217</td>\n",
              "      <td>4</td>\n",
              "      <td>0</td>\n",
              "      <td>241</td>\n",
              "      <td>233</td>\n",
              "      <td>120</td>\n",
              "      <td>186</td>\n",
              "      <td>2</td>\n",
              "      <td>147</td>\n",
              "      <td>3</td>\n",
              "      <td>1</td>\n",
              "      <td>4</td>\n",
              "    </tr>\n",
              "    <tr>\n",
              "      <th>2</th>\n",
              "      <td>129</td>\n",
              "      <td>3</td>\n",
              "      <td>1</td>\n",
              "      <td>278</td>\n",
              "      <td>264</td>\n",
              "      <td>40</td>\n",
              "      <td>264</td>\n",
              "      <td>3</td>\n",
              "      <td>308</td>\n",
              "      <td>8</td>\n",
              "      <td>11</td>\n",
              "      <td>2</td>\n",
              "    </tr>\n",
              "    <tr>\n",
              "      <th>3</th>\n",
              "      <td>28</td>\n",
              "      <td>3</td>\n",
              "      <td>1</td>\n",
              "      <td>345</td>\n",
              "      <td>233</td>\n",
              "      <td>64</td>\n",
              "      <td>0</td>\n",
              "      <td>2</td>\n",
              "      <td>217</td>\n",
              "      <td>9</td>\n",
              "      <td>0</td>\n",
              "      <td>3</td>\n",
              "    </tr>\n",
              "    <tr>\n",
              "      <th>4</th>\n",
              "      <td>34</td>\n",
              "      <td>3</td>\n",
              "      <td>1</td>\n",
              "      <td>270</td>\n",
              "      <td>249</td>\n",
              "      <td>88</td>\n",
              "      <td>213</td>\n",
              "      <td>2</td>\n",
              "      <td>231</td>\n",
              "      <td>8</td>\n",
              "      <td>11</td>\n",
              "      <td>1</td>\n",
              "    </tr>\n",
              "  </tbody>\n",
              "</table>\n",
              "</div>"
            ],
            "text/plain": [
              "   Job_History  Designation  Sex  ...  joining_year  joining_month  job_count\n",
              "0          156            2    1  ...             8              0          3\n",
              "1          217            4    0  ...             3              1          4\n",
              "2          129            3    1  ...             8             11          2\n",
              "3           28            3    1  ...             9              0          3\n",
              "4           34            3    1  ...             8             11          1\n",
              "\n",
              "[5 rows x 12 columns]"
            ]
          },
          "metadata": {
            "tags": []
          },
          "execution_count": 81
        }
      ]
    },
    {
      "cell_type": "code",
      "metadata": {
        "id": "4zJSFEGnZ0Z7",
        "colab_type": "code",
        "colab": {}
      },
      "source": [
        "x_train_l, x_test_l, y_train_l, y_test_l = train_test_split(train_copy, y, test_size= 0.3, random_state=12, stratify= y)"
      ],
      "execution_count": 0,
      "outputs": []
    },
    {
      "cell_type": "code",
      "metadata": {
        "id": "xJr6KHtoYUtT",
        "colab_type": "code",
        "outputId": "68168e2b-c327-4501-a489-3c25fc447d36",
        "colab": {
          "base_uri": "https://localhost:8080/",
          "height": 585
        }
      },
      "source": [
        "test_copy.head()"
      ],
      "execution_count": 0,
      "outputs": [
        {
          "output_type": "execute_result",
          "data": {
            "text/html": [
              "<div>\n",
              "<style scoped>\n",
              "    .dataframe tbody tr th:only-of-type {\n",
              "        vertical-align: middle;\n",
              "    }\n",
              "\n",
              "    .dataframe tbody tr th {\n",
              "        vertical-align: top;\n",
              "    }\n",
              "\n",
              "    .dataframe thead th {\n",
              "        text-align: right;\n",
              "    }\n",
              "</style>\n",
              "<table border=\"1\" class=\"dataframe\">\n",
              "  <thead>\n",
              "    <tr style=\"text-align: right;\">\n",
              "      <th></th>\n",
              "      <th>Job_History</th>\n",
              "      <th>Designation</th>\n",
              "      <th>Sex</th>\n",
              "      <th>TotalWorkingHours</th>\n",
              "      <th>Billable_Hours</th>\n",
              "      <th>Hours_off_Duty</th>\n",
              "      <th>Touring_Hours</th>\n",
              "      <th>NoOfProjects</th>\n",
              "      <th>ActualTimeSpent</th>\n",
              "      <th>joining_year</th>\n",
              "      <th>joining_month</th>\n",
              "      <th>job_count</th>\n",
              "    </tr>\n",
              "  </thead>\n",
              "  <tbody>\n",
              "    <tr>\n",
              "      <th>0</th>\n",
              "      <td>Worked at Company - 510 , Company - 658 , Comp...</td>\n",
              "      <td>Senior</td>\n",
              "      <td>0</td>\n",
              "      <td>278</td>\n",
              "      <td>263</td>\n",
              "      <td>90</td>\n",
              "      <td>2</td>\n",
              "      <td>2</td>\n",
              "      <td>203</td>\n",
              "      <td>2012</td>\n",
              "      <td>01</td>\n",
              "      <td>4</td>\n",
              "    </tr>\n",
              "    <tr>\n",
              "      <th>1</th>\n",
              "      <td>Worked at Company - 42 , Company - 432 , Compa...</td>\n",
              "      <td>VP</td>\n",
              "      <td>1</td>\n",
              "      <td>273</td>\n",
              "      <td>256</td>\n",
              "      <td>72</td>\n",
              "      <td>176</td>\n",
              "      <td>3</td>\n",
              "      <td>182</td>\n",
              "      <td>2012</td>\n",
              "      <td>02</td>\n",
              "      <td>3</td>\n",
              "    </tr>\n",
              "    <tr>\n",
              "      <th>2</th>\n",
              "      <td>Worked at Company - 99 , Company - 88 , Compan...</td>\n",
              "      <td>EVP</td>\n",
              "      <td>1</td>\n",
              "      <td>275</td>\n",
              "      <td>179</td>\n",
              "      <td>48</td>\n",
              "      <td>176</td>\n",
              "      <td>3</td>\n",
              "      <td>154</td>\n",
              "      <td>2012</td>\n",
              "      <td>02</td>\n",
              "      <td>3</td>\n",
              "    </tr>\n",
              "    <tr>\n",
              "      <th>3</th>\n",
              "      <td>Worked at Company - 554 , Company - 304</td>\n",
              "      <td>EVP</td>\n",
              "      <td>1</td>\n",
              "      <td>238</td>\n",
              "      <td>215</td>\n",
              "      <td>40</td>\n",
              "      <td>160</td>\n",
              "      <td>3</td>\n",
              "      <td>238</td>\n",
              "      <td>2012</td>\n",
              "      <td>04</td>\n",
              "      <td>2</td>\n",
              "    </tr>\n",
              "    <tr>\n",
              "      <th>4</th>\n",
              "      <td>Worked at Company - 548 , Company - 405</td>\n",
              "      <td>VP</td>\n",
              "      <td>1</td>\n",
              "      <td>293</td>\n",
              "      <td>228</td>\n",
              "      <td>88</td>\n",
              "      <td>228</td>\n",
              "      <td>4</td>\n",
              "      <td>315</td>\n",
              "      <td>2006</td>\n",
              "      <td>09</td>\n",
              "      <td>2</td>\n",
              "    </tr>\n",
              "  </tbody>\n",
              "</table>\n",
              "</div>"
            ],
            "text/plain": [
              "                                         Job_History  ... job_count\n",
              "0  Worked at Company - 510 , Company - 658 , Comp...  ...         4\n",
              "1  Worked at Company - 42 , Company - 432 , Compa...  ...         3\n",
              "2  Worked at Company - 99 , Company - 88 , Compan...  ...         3\n",
              "3            Worked at Company - 554 , Company - 304  ...         2\n",
              "4            Worked at Company - 548 , Company - 405  ...         2\n",
              "\n",
              "[5 rows x 12 columns]"
            ]
          },
          "metadata": {
            "tags": []
          },
          "execution_count": 83
        }
      ]
    },
    {
      "cell_type": "markdown",
      "metadata": {
        "id": "n8zKFN0DamUK",
        "colab_type": "text"
      },
      "source": [
        "## Model 1 Random forest :"
      ]
    },
    {
      "cell_type": "code",
      "metadata": {
        "id": "rmbQoKfvSKyD",
        "colab_type": "code",
        "outputId": "e620b26d-cc6f-4ced-ac9b-63e7a12203e2",
        "colab": {
          "base_uri": "https://localhost:8080/",
          "height": 101
        }
      },
      "source": [
        "%%time\n",
        "clf_rf = RandomForestClassifier()\n",
        "\n",
        "kfold = StratifiedKFold(n_splits=5, shuffle=True, random_state=143)\n",
        "\n",
        "param_grid = {\"n_estimators\" : [3,4,5,10,12,13,14],\n",
        "              \"max_depth\" : [2,3,5,6],\n",
        "              \"max_features\" : [3, 5, 7],\n",
        "              \"min_samples_leaf\" : [4, 6, 8, 10]}\n",
        "\n",
        "rf_grid = GridSearchCV(clf_rf, param_grid=dt_param_grid, cv=kfold)\n",
        "\n",
        "\n",
        "rf_grid.fit(x_train_l,y_train_l)\n",
        "\n",
        "print(rf_grid.best_params_)\n",
        "\n",
        "train_pred_rf = rf_grid.predict(x_train_l)\n",
        "test_pred_rf = rf_grid.predict(x_test_l)\n",
        "\n",
        "print(\"Train Score: {} .\" .format(f1_score(y_train_l, train_pred_rf)))\n",
        "print(\"Validation Score: {} .\" .format(f1_score(y_test_l, test_pred_rf)))\n",
        "\n"
      ],
      "execution_count": 0,
      "outputs": [
        {
          "output_type": "stream",
          "text": [
            "{'criterion': 'gini', 'max_depth': 4, 'min_samples_leaf': 1, 'min_samples_split': 2}\n",
            "Train Score: 0.9444444444444444 .\n",
            "Validation Score: 0.6666666666666666 .\n",
            "CPU times: user 1.73 s, sys: 445 µs, total: 1.73 s\n",
            "Wall time: 1.73 s\n"
          ],
          "name": "stdout"
        }
      ]
    },
    {
      "cell_type": "markdown",
      "metadata": {
        "id": "o0pkmLhZavV8",
        "colab_type": "text"
      },
      "source": [
        "## Model 2 xgboost : "
      ]
    },
    {
      "cell_type": "code",
      "metadata": {
        "id": "p8IBJpnLbMCV",
        "colab_type": "code",
        "colab": {}
      },
      "source": [
        "import xgboost as xgb\n",
        "from sklearn.model_selection import GridSearchCV"
      ],
      "execution_count": 0,
      "outputs": []
    },
    {
      "cell_type": "code",
      "metadata": {
        "id": "vF5X-t3ZTbaP",
        "colab_type": "code",
        "outputId": "a2fb9ee9-884b-4c38-9583-dce40916d763",
        "colab": {
          "base_uri": "https://localhost:8080/",
          "height": 101
        }
      },
      "source": [
        "\n",
        "%%time\n",
        "xgb = xgb.XGBClassifier()\n",
        "\n",
        "\n",
        "kfold = StratifiedKFold(n_splits=5, shuffle=True, random_state=143)\n",
        "\n",
        "param_grid = {\"n_estimators\" : [3,4,5,6,7,8,10],\n",
        "              \"max_depth\" : [3,5,6,7],\n",
        "              \"colsample_bytree\":[0.4,0.5],\n",
        "              \"learning_rate\": [0.001,0.01,0.1],\n",
        "              \"subsample\":[0.8,0.6],\n",
        "              'objective':['binary:logistic']}\n",
        "\n",
        "xg_grid = GridSearchCV(xgb, param_grid=param_grid, n_jobs=-1, cv=kfold)\n",
        "\n",
        "\n",
        "xg_grid.fit(x_train_l,y_train_l)\n",
        "\n",
        "print(xg_grid.best_params_)\n",
        "\n",
        "train_pred_xgb = xg_grid.predict(x_train_l)\n",
        "test_pred_xgb = xg_grid.predict(x_test_l)\n",
        "\n",
        "print(\"Train Score: {}.\" .format(f1_score(y_train_l, train_pred_xgb)))\n",
        "print(\"Validation Score: {}.\" .format(f1_score(y_test_l, test_pred_xgb)))\n"
      ],
      "execution_count": 0,
      "outputs": [
        {
          "output_type": "stream",
          "text": [
            "{'colsample_bytree': 0.5, 'learning_rate': 0.1, 'max_depth': 3, 'n_estimators': 6, 'objective': 'binary:logistic', 'subsample': 0.8}\n",
            "Train Score: 0.8823529411764706.\n",
            "Validation Score: 0.5454545454545454.\n",
            "CPU times: user 1.28 s, sys: 8.33 ms, total: 1.29 s\n",
            "Wall time: 7.39 s\n"
          ],
          "name": "stdout"
        }
      ]
    },
    {
      "cell_type": "markdown",
      "metadata": {
        "id": "GZFdfIaobtn-",
        "colab_type": "text"
      },
      "source": [
        "## Model 3 Gradient Boosting : "
      ]
    },
    {
      "cell_type": "code",
      "metadata": {
        "id": "53pFwXSObtYX",
        "colab_type": "code",
        "outputId": "7cc57bdf-88ea-41a2-b35e-42c1efeae118",
        "colab": {
          "base_uri": "https://localhost:8080/",
          "height": 101
        }
      },
      "source": [
        "\n",
        "%%time\n",
        "clf_gb = GradientBoostingClassifier()\n",
        "\n",
        "gbm_param_grid = {'max_depth': [2,3,4],\n",
        "                  'subsample': [0.8,0.6],\n",
        "                  'max_features':[0.3], \n",
        "                  'n_estimators': [5,7,9,11],\n",
        "                  'learning_rate':[0.1]}\n",
        "\n",
        "gbm_grid_l = GridSearchCV(clf_gb, param_grid=gbm_param_grid, n_jobs =-1, cv=5)\n",
        "\n",
        "gbm_grid_l.fit(x_train_l, y_train_l)\n",
        "\n",
        "print(\"The Best parameters are: {} .\".format(gbm_grid.best_params_))\n",
        "\n",
        "train_pred_gb_l = gbm_grid_l.predict(x_train_l)\n",
        "test_pred_gb_l = gbm_grid_l.predict(x_test_l)\n",
        "print(f1_score(y_train_l, train_pred_gb_l))\n",
        "print(f1_score(y_test_l, test_pred_gb_l))\n"
      ],
      "execution_count": 0,
      "outputs": [
        {
          "output_type": "stream",
          "text": [
            "The Best parameters are: {'learning_rate': 0.1, 'max_depth': 2, 'max_features': 0.3, 'n_estimators': 20, 'subsample': 0.8} .\n",
            "0.8823529411764706\n",
            "0.2222222222222222\n",
            "CPU times: user 113 ms, sys: 3.07 ms, total: 116 ms\n",
            "Wall time: 739 ms\n"
          ],
          "name": "stdout"
        }
      ]
    },
    {
      "cell_type": "code",
      "metadata": {
        "id": "jd77cVQMhpFC",
        "colab_type": "code",
        "colab": {}
      },
      "source": [
        ""
      ],
      "execution_count": 0,
      "outputs": []
    },
    {
      "cell_type": "markdown",
      "metadata": {
        "id": "7ke28T-Ehq7t",
        "colab_type": "text"
      },
      "source": [
        "### The training data is insufficient & it is underfitting when building the models. \n",
        "\n",
        "\n",
        "### The target labelled data is class imbalanced & should perform SMOTE method to over sample the data, It may be helpful in building the model without underfitting. "
      ]
    },
    {
      "cell_type": "markdown",
      "metadata": {
        "id": "vcIbV574ix4n",
        "colab_type": "text"
      },
      "source": [
        "### Feature Engineering can be done by using the Job_History column by counting the no of companies he worked earlier & make better predictions. "
      ]
    },
    {
      "cell_type": "code",
      "metadata": {
        "id": "yexFK5tQirGw",
        "colab_type": "code",
        "colab": {}
      },
      "source": [
        ""
      ],
      "execution_count": 0,
      "outputs": []
    },
    {
      "cell_type": "markdown",
      "metadata": {
        "id": "Jbpp-Wy93hnQ",
        "colab_type": "text"
      },
      "source": [
        "# SMOTE : "
      ]
    },
    {
      "cell_type": "code",
      "metadata": {
        "id": "8GZKh2Bt3gSf",
        "colab_type": "code",
        "colab": {}
      },
      "source": [
        "import SMOTE"
      ],
      "execution_count": 0,
      "outputs": []
    },
    {
      "cell_type": "code",
      "metadata": {
        "id": "ePQr0qzG3gQu",
        "colab_type": "code",
        "colab": {}
      },
      "source": [
        ""
      ],
      "execution_count": 0,
      "outputs": []
    }
  ]
}